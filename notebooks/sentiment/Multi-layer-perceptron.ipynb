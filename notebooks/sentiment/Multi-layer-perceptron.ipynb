{
 "cells": [
  {
   "cell_type": "markdown",
   "metadata": {},
   "source": [
    "## Classifying tweet sentiment"
   ]
  },
  {
   "cell_type": "code",
   "execution_count": 65,
   "metadata": {},
   "outputs": [],
   "source": [
    "import torch\n",
    "import torch.nn.functional as F\n",
    "import torch.optim as optim\n",
    "from torch import nn\n",
    "\n",
    "import matplotlib.pyplot as plt\n",
    "import numpy as np\n",
    "\n",
    "from argparse import Namespace\n",
    "from nltk.tokenize import word_tokenize\n",
    "from sentiment.tass import InterTASSReader\n",
    "from sklearn.feature_extraction.text import CountVectorizer\n",
    "from sklearn.metrics import confusion_matrix\n",
    "\n",
    "from sentiment import tokenizer, preprocessor"
   ]
  },
  {
   "cell_type": "markdown",
   "metadata": {},
   "source": [
    "### Load dataset"
   ]
  },
  {
   "cell_type": "code",
   "execution_count": 66,
   "metadata": {},
   "outputs": [],
   "source": [
    "sentiment_classes = ['P', 'N', 'NEU', 'NONE']\n",
    "\n",
    "def y_text_to_num(y_text):\n",
    "    return [sentiment_classes.index(elem) for elem in y_text]\n",
    "\n",
    "def y_num_to_text(y_num):\n",
    "    return [sentiment_classes[index] for index in y_num]"
   ]
  },
  {
   "cell_type": "code",
   "execution_count": 67,
   "metadata": {},
   "outputs": [],
   "source": [
    "corpus_file = '../../corpus/tass/intertass-ES-{}-tagged.xml'\n",
    "\n",
    "reader = InterTASSReader(corpus_file.format('train'))\n",
    "X_train = list(reader.X())\n",
    "y_train = y_text_to_num(reader.y())\n",
    "\n",
    "reader = InterTASSReader(corpus_file.format('development'))\n",
    "X_dev = list(reader.X())\n",
    "y_dev = y_text_to_num(reader.y())"
   ]
  },
  {
   "cell_type": "code",
   "execution_count": 68,
   "metadata": {},
   "outputs": [
    {
     "name": "stdout",
     "output_type": "stream",
     "text": [
      "P 318\n",
      "N 418\n",
      "NEU 133\n",
      "NONE 139\n"
     ]
    }
   ],
   "source": [
    "# Class distribution\n",
    "for i, output in enumerate(sentiment_classes):\n",
    "    print(output, (torch.tensor(y_train) == i).sum().item())"
   ]
  },
  {
   "cell_type": "markdown",
   "metadata": {},
   "source": [
    "### Vectorizer"
   ]
  },
  {
   "cell_type": "code",
   "execution_count": 69,
   "metadata": {},
   "outputs": [
    {
     "data": {
      "text/plain": [
       "CountVectorizer(analyzer='word', binary=True, decode_error='strict',\n",
       "                dtype=<class 'numpy.int64'>, encoding='utf-8', input='content',\n",
       "                lowercase=True, max_df=1.0, max_features=None, min_df=1,\n",
       "                ngram_range=(1, 1),\n",
       "                preprocessor=<sentiment.preprocessor.Preprocessor object at 0x7f6f277a62b0>,\n",
       "                stop_words=None, strip_accents=None,\n",
       "                token_pattern='(?u)\\\\b\\\\w\\\\w+\\\\b',\n",
       "                tokenizer=<sentiment.tokenizer.Tokenizer object at 0x7f6f277a6278>,\n",
       "                vocabulary=None)"
      ]
     },
     "execution_count": 69,
     "metadata": {},
     "output_type": "execute_result"
    }
   ],
   "source": [
    "tokenize = tokenizer.Tokenizer(max_negations=0, filter_stopwords=True)\n",
    "preprocess = preprocessor.Preprocessor()\n",
    "#vectorizer = CountVectorizer(binary=True)\n",
    "#vectorizer = CountVectorizer(binary=True, analyzer='char', ngram_range=(3, 5))\n",
    "vectorizer = CountVectorizer(binary=True, tokenizer=tokenize, preprocessor=preprocess)\n",
    "vectorizer.fit(X_train)"
   ]
  },
  {
   "cell_type": "code",
   "execution_count": 70,
   "metadata": {},
   "outputs": [
    {
     "data": {
      "text/plain": [
       "(1, 3947)"
      ]
     },
     "execution_count": 70,
     "metadata": {},
     "output_type": "execute_result"
    }
   ],
   "source": [
    "input_shape = vectorizer.transform([X_train[0]]).shape\n",
    "input_shape"
   ]
  },
  {
   "cell_type": "code",
   "execution_count": 71,
   "metadata": {},
   "outputs": [],
   "source": [
    "X_train = vectorizer.transform(X_train).toarray()\n",
    "X_train = torch.tensor(X_train).float()\n",
    "y_train = torch.tensor(y_train).long()\n",
    "X_dev = vectorizer.transform(X_dev).toarray()\n",
    "X_dev = torch.tensor(X_dev).float()\n",
    "y_dev = torch.tensor(y_dev).long()"
   ]
  },
  {
   "cell_type": "markdown",
   "metadata": {},
   "source": [
    "### Multi-layer perceptron"
   ]
  },
  {
   "cell_type": "code",
   "execution_count": 72,
   "metadata": {},
   "outputs": [],
   "source": [
    "class MLP(nn.Module):\n",
    "    def __init__(self, input_dim, output_dim):\n",
    "        super(MLP, self).__init__()\n",
    "        hid_dim_1 = 800\n",
    "        self.l1 = nn.Linear(input_dim, hid_dim_1)\n",
    "        self.l2 = nn.Linear(hid_dim_1, output_dim)\n",
    "        \n",
    "    def forward(self, X, apply_softmax=True):\n",
    "        X_t = torch.sigmoid(self.l1(X))\n",
    "        X_t = self.l2(X_t)\n",
    "        if apply_softmax:\n",
    "            X_t = F.softmax(X_t, dim=1)\n",
    "        return X_t"
   ]
  },
  {
   "cell_type": "code",
   "execution_count": 73,
   "metadata": {},
   "outputs": [],
   "source": [
    "class MLP(nn.Module):\n",
    "    def __init__(self, input_dim, output_dim):\n",
    "        super(MLP, self).__init__()\n",
    "        hid_dim_1 = 400\n",
    "        hid_dim_2 = 100\n",
    "        self.l1 = nn.Linear(input_dim, hid_dim_1)\n",
    "        self.do1 = nn.Dropout(p=0.5)\n",
    "        self.l2 = nn.Linear(hid_dim_1, hid_dim_2)\n",
    "        self.do2 = nn.Dropout(p=0.5)\n",
    "        self.l3 = nn.Linear(hid_dim_2, output_dim)\n",
    "        \n",
    "    def forward(self, X, apply_softmax=True):\n",
    "        X_t = torch.sigmoid(self.l1(X))\n",
    "        X_t = self.do1(X_t)\n",
    "        X_t = torch.sigmoid(self.l2(X_t))\n",
    "        X_t = self.do2(X_t)\n",
    "        X_t = self.l3(X_t)\n",
    "        if apply_softmax:\n",
    "            X_t = F.softmax(X_t, dim=1)\n",
    "        return X_t"
   ]
  },
  {
   "cell_type": "markdown",
   "metadata": {},
   "source": [
    "### Train"
   ]
  },
  {
   "cell_type": "code",
   "execution_count": 74,
   "metadata": {},
   "outputs": [],
   "source": [
    "args = Namespace(\n",
    "    device=\"cpu\",\n",
    "    max_epochs=40,\n",
    "    learning_rate=0.01,\n",
    "    seed=5005\n",
    ")"
   ]
  },
  {
   "cell_type": "code",
   "execution_count": 75,
   "metadata": {},
   "outputs": [],
   "source": [
    "torch.manual_seed(args.seed)\n",
    "np.random.seed(args.seed)\n",
    "\n",
    "model = MLP(input_shape[1], 4).to(args.device)\n",
    "ce_loss = nn.CrossEntropyLoss()\n",
    "optimizer = optim.Adam(model.parameters(), lr=args.learning_rate)\n",
    "loss_hist = []\n",
    "acc_train_hist = []\n",
    "acc_dev_hist = []\n",
    "\n",
    "X_train = X_train.to(args.device)\n",
    "y_train = y_train.to(args.device)\n",
    "X_dev = X_dev.to(args.device)\n",
    "y_dev = y_dev.to(args.device)"
   ]
  },
  {
   "cell_type": "code",
   "execution_count": 76,
   "metadata": {},
   "outputs": [],
   "source": [
    "model.train()\n",
    "for epoch in range(args.max_epochs):\n",
    "    optimizer.zero_grad()\n",
    "    \n",
    "    y_pred = model(X_train, apply_softmax=False)\n",
    "    loss = ce_loss(y_pred, y_train)\n",
    "    loss_hist.append(loss.item())\n",
    "    loss.backward()\n",
    "    \n",
    "    optimizer.step()\n",
    "    \n",
    "    acc_train_hist.append((y_pred.argmax(dim=1) == y_train).sum().item() / len(X_train))\n",
    "    with torch.no_grad():\n",
    "        model.eval()\n",
    "        y_pred = model(X_dev)\n",
    "        y_pred = torch.argmax(y_pred, dim=1)\n",
    "        acc_dev = (y_pred == y_dev).sum().item() / len(y_dev)\n",
    "        acc_dev_hist.append(acc_dev)\n",
    "        model.train()\n"
   ]
  },
  {
   "cell_type": "code",
   "execution_count": 77,
   "metadata": {},
   "outputs": [
    {
     "data": {
      "text/plain": [
       "[]"
      ]
     },
     "execution_count": 77,
     "metadata": {},
     "output_type": "execute_result"
    },
    {
     "data": {
      "image/png": "[encoded data removed]",
      "text/plain": [
       "<Figure size 432x288 with 2 Axes>"
      ]
     },
     "metadata": {
      "needs_background": "light"
     },
     "output_type": "display_data"
    }
   ],
   "source": [
    "ax1 = plt.subplot(121)\n",
    "ax2 = plt.subplot(122)\n",
    "ax1.plot(loss_hist)\n",
    "ax1.set_title('Training loss')\n",
    "ax2.plot(acc_train_hist, label='train set')\n",
    "ax2.plot(acc_dev_hist, label='dev set')\n",
    "ax2.legend()\n",
    "ax2.set_title('Accuracy')\n",
    "plt.plot()"
   ]
  },
  {
   "cell_type": "markdown",
   "metadata": {},
   "source": [
    "### Eval"
   ]
  },
  {
   "cell_type": "code",
   "execution_count": 78,
   "metadata": {},
   "outputs": [
    {
     "data": {
      "text/plain": [
       "MLP(\n",
       "  (l1): Linear(in_features=3947, out_features=400, bias=True)\n",
       "  (do1): Dropout(p=0.5, inplace=False)\n",
       "  (l2): Linear(in_features=400, out_features=100, bias=True)\n",
       "  (do2): Dropout(p=0.5, inplace=False)\n",
       "  (l3): Linear(in_features=100, out_features=4, bias=True)\n",
       ")"
      ]
     },
     "execution_count": 78,
     "metadata": {},
     "output_type": "execute_result"
    }
   ],
   "source": [
    "model.eval()"
   ]
  },
  {
   "cell_type": "code",
   "execution_count": 79,
   "metadata": {},
   "outputs": [
    {
     "name": "stdout",
     "output_type": "stream",
     "text": [
      "0.5237154150197628\n"
     ]
    }
   ],
   "source": [
    "y_pred = model(X_dev)\n",
    "y_pred = torch.argmax(y_pred, dim=1)\n",
    "acc = (y_pred == y_dev).sum().item() / len(y_dev)\n",
    "print(acc)"
   ]
  },
  {
   "cell_type": "code",
   "execution_count": 80,
   "metadata": {},
   "outputs": [
    {
     "data": {
      "image/png": "[encoded data removed]",
      "text/plain": [
       "<Figure size 432x288 with 2 Axes>"
      ]
     },
     "metadata": {
      "needs_background": "light"
     },
     "output_type": "display_data"
    }
   ],
   "source": [
    "cm = confusion_matrix(y_dev, y_pred)\n",
    "ax = plt.subplot(111)\n",
    "im = ax.imshow(cm, cmap=plt.cm.Blues)\n",
    "ax.figure.colorbar(im, ax=ax)\n",
    "ax.set(xticks=np.arange(cm.shape[1]),\n",
    "       yticks=np.arange(cm.shape[0]),\n",
    "       xticklabels=sentiment_classes,\n",
    "       yticklabels=sentiment_classes,\n",
    "       xlabel='Predicted label',\n",
    "       ylabel='True label')\n",
    "plt.show()"
   ]
  },
  {
   "cell_type": "markdown",
   "metadata": {},
   "source": [
    "### Interpretation"
   ]
  },
  {
   "cell_type": "code",
   "execution_count": 81,
   "metadata": {},
   "outputs": [
    {
     "data": {
      "text/plain": [
       "['P', 'N', 'N', 'P', 'N']"
      ]
     },
     "execution_count": 81,
     "metadata": {},
     "output_type": "execute_result"
    }
   ],
   "source": [
    "sents = [\n",
    "    \"El día fue muy lindo\",\n",
    "    \"El día fue muy feo\",\n",
    "    \"Hoy me siento mal\",\n",
    "    \"Ellos hacen compras\",\n",
    "    \"\"\n",
    "]\n",
    "sents = vectorizer.transform(sents).toarray()\n",
    "sents = torch.tensor(sents).float().to(args.device)\n",
    "pred = model(sents).argmax(dim=1)\n",
    "y_num_to_text(pred)"
   ]
  },
  {
   "cell_type": "code",
   "execution_count": 82,
   "metadata": {},
   "outputs": [],
   "source": [
    "def sort_by(word_probs, sentiment_index):\n",
    "    # sentiment_index belongs to [0, 1, 2, 3]\n",
    "    # which translates to ['P', 'N', 'NEU', 'NONE']\n",
    "\n",
    "    sort_by = torch.argsort(-word_probs[:, sentiment_index])\n",
    "    sorted_words = all_words[sort_by].long()\n",
    "    sorted_words = vectorizer.inverse_transform(sorted_words)\n",
    "    return [x[0] for x in sorted_words]\n",
    "\n",
    "def print_best_and_worst_five(sorted_words, cl):\n",
    "    print('Top 5 influencial words in class {}:'.format(cl))\n",
    "    print('\\t', sorted_words[:5])\n",
    "    print('Worst 5 influencial words in class {}:'.format(cl))\n",
    "    print('\\t', sorted_words[-5:])\n",
    "    print()\n"
   ]
  },
  {
   "cell_type": "code",
   "execution_count": 83,
   "metadata": {},
   "outputs": [
    {
     "name": "stdout",
     "output_type": "stream",
     "text": [
      "Top 5 influencial words in class P:\n",
      "\t ['guapa', 'buen', 'cierto', 'genial', 'ahí']\n",
      "Worst 5 influencial words in class P:\n",
      "\t ['joder', 'odio', 'feo', 'peor', 'triste']\n",
      "\n",
      "Top 5 influencial words in class N:\n",
      "\t ['triste', 'peor', 'feo', 'odio', 'joder']\n",
      "Worst 5 influencial words in class N:\n",
      "\t ['bonito', 'genial', 'cierto', 'buen', 'guapa']\n",
      "\n",
      "Top 5 influencial words in class NEU:\n",
      "\t ['sentimiento', 'quiera', 'sobrevives', 'compras', 'resultad']\n",
      "Worst 5 influencial words in class NEU:\n",
      "\t ['joder', 'odio', 'feo', 'peor', 'triste']\n",
      "\n",
      "Top 5 influencial words in class NONE:\n",
      "\t ['fecha', 'semana', 'zona', 'tuit', 'quedo']\n",
      "Worst 5 influencial words in class NONE:\n",
      "\t ['joder', 'odio', 'feo', 'peor', 'triste']\n",
      "\n"
     ]
    }
   ],
   "source": [
    "all_words = torch.eye(input_shape[1]).to(args.device)\n",
    "word_probs = model(all_words)\n",
    "\n",
    "sorted_words = sort_by(word_probs, 0)\n",
    "print_best_and_worst_five(sorted_words, 'P')\n",
    "\n",
    "sorted_words = sort_by(word_probs, 1)\n",
    "print_best_and_worst_five(sorted_words, 'N')\n",
    "\n",
    "sorted_words = sort_by(word_probs, 2)\n",
    "print_best_and_worst_five(sorted_words, 'NEU')\n",
    "\n",
    "sorted_words = sort_by(word_probs, 3)\n",
    "print_best_and_worst_five(sorted_words, 'NONE')"
   ]
  }
 ],
 "metadata": {
  "kernelspec": {
   "display_name": "Python 3",
   "language": "python",
   "name": "python3"
  },
  "language_info": {
   "codemirror_mode": {
    "name": "ipython",
    "version": 3
   },
   "file_extension": ".py",
   "mimetype": "text/x-python",
   "name": "python",
   "nbconvert_exporter": "python",
   "pygments_lexer": "ipython3",
   "version": "3.7.3"
  }
 },
 "nbformat": 4,
 "nbformat_minor": 2
}

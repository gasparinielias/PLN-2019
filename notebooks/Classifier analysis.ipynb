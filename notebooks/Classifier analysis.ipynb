{
 "cells": [
  {
   "cell_type": "markdown",
   "metadata": {},
   "source": [
    "## Custom vectorizer"
   ]
  },
  {
   "cell_type": "code",
   "execution_count": 19,
   "metadata": {},
   "outputs": [
    {
     "name": "stdout",
     "output_type": "stream",
     "text": [
      "/home/mono/materias/pln/repo\n"
     ]
    }
   ],
   "source": [
    "import os\n",
    "os.chdir('..')\n",
    "print(os.getcwd())"
   ]
  },
  {
   "cell_type": "code",
   "execution_count": 20,
   "metadata": {},
   "outputs": [],
   "source": [
    "import re\n",
    "from nltk.tokenize import word_tokenize\n",
    "from sklearn.feature_extraction.text import CountVectorizer\n",
    "from sklearn.model_selection import GridSearchCV\n",
    "from sklearn.svm import SVC\n",
    "from sklearn.pipeline import Pipeline\n",
    "import pickle\n",
    "import numpy as np"
   ]
  },
  {
   "cell_type": "code",
   "execution_count": 21,
   "metadata": {},
   "outputs": [],
   "source": [
    "from sentiment.tass import InterTASSReader\n",
    "\n",
    "# Train data\n",
    "reader = InterTASSReader('corpus/InterTASS/PE/intertass-PE-train-tagged.xml')\n",
    "tweets = list(reader.tweets())  # iterador sobre los tweets\n",
    "X = list(reader.X())  # iterador sobre los contenidos de los tweets\n",
    "y = list(reader.y())  # iterador sobre las polaridades de los tweets\n",
    "\n",
    "# Development data\n",
    "reader = InterTASSReader('corpus/InterTASS/PE/intertass-PE-development-tagged.xml')\n",
    "tweets = list(reader.tweets())  # iterador sobre los tweets\n",
    "X_dev = list(reader.X())  # iterador sobre los contenidos de los tweets\n",
    "y_dev = list(reader.y())  # iterador sobre las polaridades de los tweets"
   ]
  },
  {
   "cell_type": "code",
   "execution_count": 6,
   "metadata": {},
   "outputs": [
    {
     "name": "stdout",
     "output_type": "stream",
     "text": [
      "0\n",
      "Sin ser fan de Juan Gabriel, siempre supe que era una fuerza de la naturaleza. Hoy escuché \"Querida\", y me dio una ternura enorme.\n"
     ]
    }
   ],
   "source": [
    "# find tweet with string\n",
    "for i, x in enumerate(X):\n",
    "    if 'no' in x:\n",
    "        break\n",
    "\n",
    "print(i)\n",
    "print(X[i])"
   ]
  },
  {
   "cell_type": "markdown",
   "metadata": {},
   "source": [
    "### CountVectorizer as is"
   ]
  },
  {
   "cell_type": "code",
   "execution_count": 30,
   "metadata": {
    "collapsed": true
   },
   "outputs": [
    {
     "name": "stdout",
     "output_type": "stream",
     "text": [
      "  (0, 1408)\t1\n",
      "  (0, 4049)\t1\n",
      "  (0, 1204)\t1\n",
      "  (0, 2551)\t1\n",
      "  (0, 3412)\t1\n",
      "  (0, 1482)\t1\n",
      "  (0, 1967)\t1\n",
      "  (0, 2760)\t1\n",
      "  (0, 2237)\t1\n",
      "  (0, 1735)\t1\n",
      "  (0, 4194)\t2\n",
      "  (0, 1452)\t1\n",
      "  (0, 3386)\t1\n",
      "  (0, 3943)\t1\n",
      "  (0, 3783)\t1\n",
      "  (0, 1754)\t1\n",
      "  (0, 2183)\t1\n",
      "  (0, 1046)\t2\n",
      "  (0, 1616)\t1\n",
      "  (0, 3750)\t1\n",
      "  (0, 3812)\t1\n",
      "  (1, 172)\t1\n",
      "  (1, 4295)\t1\n",
      "  (1, 4371)\t1\n",
      "  (1, 4084)\t1\n",
      "  :\t:\n",
      "  (997, 2855)\t1\n",
      "  (997, 4042)\t1\n",
      "  (997, 2926)\t1\n",
      "  (997, 867)\t1\n",
      "  (997, 2399)\t1\n",
      "  (997, 4089)\t1\n",
      "  (997, 657)\t1\n",
      "  (997, 818)\t1\n",
      "  (997, 2551)\t1\n",
      "  (997, 3386)\t1\n",
      "  (998, 1790)\t1\n",
      "  (998, 1788)\t1\n",
      "  (998, 4210)\t1\n",
      "  (998, 2774)\t1\n",
      "  (998, 1435)\t1\n",
      "  (998, 175)\t1\n",
      "  (998, 2237)\t1\n",
      "  (999, 968)\t1\n",
      "  (999, 1295)\t1\n",
      "  (999, 3727)\t1\n",
      "  (999, 3493)\t1\n",
      "  (999, 2388)\t1\n",
      "  (999, 2551)\t2\n",
      "  (999, 3386)\t2\n",
      "  (999, 1046)\t1\n"
     ]
    }
   ],
   "source": [
    "vect = CountVectorizer()\n",
    "print(vect.fit_transform(X))\n"
   ]
  },
  {
   "cell_type": "markdown",
   "metadata": {},
   "source": [
    "## Changing the tokenizer"
   ]
  },
  {
   "cell_type": "code",
   "execution_count": 20,
   "metadata": {},
   "outputs": [
    {
     "name": "stdout",
     "output_type": "stream",
     "text": [
      "['@', 'fiorela_gue', 'aw', '!', 'recién', 'veo', 'esto', ',', 'sorrry', '!', 'tu', 'pues', 'me', 'dices', 'algo', 'y', 'luego', 'queda', 'en', 'nada', 'vamos', 'hoy', 'a', 'la', 'reu', 'de', 'mi', 'prima', '?', 'le', 'dije', 'a', 'mari']\n"
     ]
    }
   ],
   "source": [
    "vect = CountVectorizer(tokenizer=word_tokenize)\n",
    "vectorize = vect.build_analyzer()\n",
    "print(vectorize(X[5]))"
   ]
  },
  {
   "cell_type": "code",
   "execution_count": 20,
   "metadata": {},
   "outputs": [
    {
     "name": "stdout",
     "output_type": "stream",
     "text": [
      "['+saliste', 'ayer', '?', '-no', ',', 'me', 'quedé', 'en', 'casa', '.', '+qué', 'aburrido', 'te', 'has', 'vuelto', '!', '-eso', 'no', 'NOT_dices', 'NOT_cuando', 'NOT_llega', 'la', 'quincena', 'y', 'no', 'NOT_tienes', 'ni', 'NOT_para', 'NOT_el', 'NOT_pasaje', '.']\n"
     ]
    }
   ],
   "source": [
    "def neg_handling_tokenizer(s, max_negations=3):\n",
    "    neg_words = ['no', 'tampoco', 'ni']\n",
    "    tokens = word_tokenize(s)\n",
    "    make_opposite = False\n",
    "    neg_count = 0\n",
    "    for i in range(len(tokens)):\n",
    "        if re.search(r'[.?\\-\",]+', tokens[i]):\n",
    "            make_opposite = False\n",
    "        if make_opposite and \\\n",
    "            tokens[i] not in neg_words and \\\n",
    "            neg_count <= max_negations:\n",
    "\n",
    "            tokens[i] = 'NOT_' + tokens[i]\n",
    "            neg_count += 1\n",
    "        if tokens[i] in neg_words:\n",
    "            make_opposite = True\n",
    "            neg_count = 0\n",
    "    return tokens\n",
    "\n",
    "def build_tokenizer(max_negations=2):\n",
    "    return lambda s: neg_handling_tokenizer(s, max_negations)\n",
    "\n",
    "vect = CountVectorizer(tokenizer=build_tokenizer())\n",
    "vectorize = vect.build_analyzer()\n",
    "print(vectorize(X[10]))"
   ]
  },
  {
   "cell_type": "markdown",
   "metadata": {},
   "source": [
    "## Changing the preprocessor"
   ]
  },
  {
   "cell_type": "code",
   "execution_count": 32,
   "metadata": {},
   "outputs": [
    {
     "name": "stdout",
     "output_type": "stream",
     "text": [
      "['ayer', 'preguntaban', 'dónde', 'están', 'las', 'solteras', 'todo', 'mi', 'grupo', 'alza', 'la', 'mano', 'yo', 'la', 'única', 'que', 'no', 'todas', 'voltean', 'LAUGH', 'verme', 'LAUGH']\n"
     ]
    }
   ],
   "source": [
    "def my_preprocessor(doc):\n",
    "    tagged_users_pat = r'@\\w+'\n",
    "    urls_pat = 'http[s]?://(?:[a-zA-Z]|[0-9]|[$-_@.&+]|[!*\\(\\), ]|(?:%[0-9a-fA-F][0-9a-fA-F]))+'\n",
    "    vocals_rep_pat = r'(\\w)\\1{1,}'\n",
    "    laugh_pat = r'\\b[jah]+\\b'\n",
    "    return re.sub(tagged_users_pat, '',\n",
    "           re.sub(laugh_pat, '<LAUGH>',\n",
    "           re.sub(urls_pat, '',\n",
    "           re.sub(vocals_rep_pat, '\\g<1>',\n",
    "           doc.lower()))))\n",
    "\n",
    "vect = CountVectorizer(preprocessor=my_preprocessor)\n",
    "vectorize = vect.build_analyzer()\n",
    "print(vectorize(X[1]))"
   ]
  },
  {
   "cell_type": "markdown",
   "metadata": {},
   "source": [
    "## Analyzing the models"
   ]
  },
  {
   "cell_type": "markdown",
   "metadata": {},
   "source": [
    "### Train"
   ]
  },
  {
   "cell_type": "code",
   "execution_count": 28,
   "metadata": {},
   "outputs": [
    {
     "name": "stdout",
     "output_type": "stream",
     "text": [
      "/home/mono/materias/pln/pln-env/lib/python3.6/site-packages/sklearn/linear_model/logistic.py:433: FutureWarning: Default solver will be changed to 'lbfgs' in 0.22. Specify a solver to silence this warning.\r\n",
      "  FutureWarning)\r\n",
      "/home/mono/materias/pln/pln-env/lib/python3.6/site-packages/sklearn/linear_model/logistic.py:460: FutureWarning: Default multi_class will be changed to 'auto' in 0.22. Specify the multi_class option to silence this warning.\r\n",
      "  \"this warning.\", FutureWarning)\r\n"
     ]
    }
   ],
   "source": [
    "!python sentiment/scripts/train.py -m clf -c maxent"
   ]
  },
  {
   "cell_type": "markdown",
   "metadata": {},
   "source": [
    "### Maxent features"
   ]
  },
  {
   "cell_type": "code",
   "execution_count": 29,
   "metadata": {},
   "outputs": [
    {
     "name": "stdout",
     "output_type": "stream",
     "text": [
      "N:\n",
      "\t! buena gracias genial gran ([-1.11747036 -0.70254198 -0.64637816 -0.64238543 -0.64020784])\n",
      "\tpeor odio ni no triste ([0.70857828 0.89127316 0.9378617  1.05487194 1.15167997])\n",
      "NEU:\n",
      "\thoy gracias # hacer cosas ([-0.91044231 -0.87210966 -0.86211886 -0.75393938 -0.62556682])\n",
      "\tvez sido aunque nerviosa felices ([0.72865744 0.75207712 0.78020148 0.82442367 0.83693381])\n",
      "NONE:\n",
      "\tmal ... buen no ser ([-0.84558229 -0.7118646  -0.70027885 -0.67418331 -0.67183291])\n",
      "\talguna jugar vídeo semana ? ([0.72483241 0.81335749 0.88829897 0.96288195 1.34383161])\n",
      "P:\n",
      "\tno triste ni odio vuelta ([-0.77035651 -0.75227158 -0.61878566 -0.49820698 -0.49676044])\n",
      "\tguapa genial gracias buen ! ([0.96675182 0.99257572 1.06841277 1.24693733 1.32596686])\n"
     ]
    }
   ],
   "source": [
    "with open('models/ES-maxent.model', 'rb') as fp:\n",
    "    model = pickle.load(fp)\n",
    "        \n",
    "y_pred = model.predict(X_dev)\n",
    "y_pred_proba = model._pipeline.predict_proba(X_dev)\n",
    "\n",
    "from sentiment.analysis import print_maxent_features, print_feature_weights_for_item\n",
    "\n",
    "vect = model._pipeline.named_steps['vect']\n",
    "clf = model._pipeline.named_steps['clf']\n",
    "print_maxent_features(vect, clf)"
   ]
  },
  {
   "cell_type": "markdown",
   "metadata": {},
   "source": [
    "### Sorting wrongly tagged tweets"
   ]
  },
  {
   "cell_type": "code",
   "execution_count": 16,
   "metadata": {},
   "outputs": [
    {
     "name": "stdout",
     "output_type": "stream",
     "text": [
      "['N' 'NEU' 'NONE' 'P']\n",
      "[('Buen día.... Para delante una nueva semana con fe...!!!! Con fe ... Cuanto tiempo me aguantas con mi forma de ser...', 'NONE', 'P', array([0.04669929, 0.0314912 , 0.0202422 , 0.90156731]), 76), ('Buen año nuevo gracias.... @alesalazarm @marielaslazar @romi_rb5 @AnikaJohana #conlasmejores', 'NONE', 'P', array([0.09619563, 0.02283504, 0.02643733, 0.854532  ]), 257), ('Y comenzó el día mas amado y esperado ja ja! \"Lunes\" a comenzar con los dos pies bien puestos en la tierra. Así que adelante!!.', 'N', 'P', array([0.07311384, 0.01840572, 0.02999888, 0.87848156]), 6), ('En pocos minutos empieza Combate!! Usa el HT #CbtHastaSiempre y coméntanos que fue lo que más te gusto de tu programa favorito...', 'NONE', 'P', array([0.05242683, 0.06869499, 0.04962524, 0.82925294]), 137), ('!Feliz año nuevo! este 2017 sea realmente un año muy lindo y maravilloso ^_^', 'NONE', 'P', array([0.04649688, 0.07665219, 0.05610333, 0.8207476 ]), 201), ('@JEESrcismo por eso mismo. Yo no veo la diferencia en una supuesta \"vida sana\" impulsada por el veganismo y el resto', 'NONE', 'N', array([0.80359802, 0.07875381, 0.06328805, 0.05436012]), 145), ('Feliz año! Las mejores vibras y éxitos para este 2017! Cambio y fuera', 'NONE', 'P', array([0.05491332, 0.08052792, 0.06267452, 0.80188424]), 199), ('Y bueno, desde la chamba y tentado por los olores que vienen de casas vecinas: chancho al palo, pavo al horno, lechon... ¡Me dio hambre!', 'NONE', 'P', array([0.08454795, 0.1101425 , 0.03794895, 0.76736061]), 184), ('@vanessasaba75 Feliz Año Bella! Las mejores vibras', 'NONE', 'P', array([0.05345788, 0.0841414 , 0.07257456, 0.78982616]), 198), ('En 1990 una amiga quiso ser policía. Sus padres se opusieron xq las mujeres no podían ser oficiales. Luego de 26 años, tenemos GENERALAS.', 'NONE', 'N', array([0.73877231, 0.05361835, 0.03100949, 0.17659985]), 84), ('\"Yo les deseo que sus deseos sean tan fuertes, que se conviertan en voluntad...\" Feliz 2017!', 'NONE', 'P', array([0.05677634, 0.15267605, 0.04585858, 0.74468903]), 186), ('@YurikitoKSP @Universitario que feo tu corazoncito! Deja ser feliz a los demás', 'NONE', 'P', array([0.15231314, 0.07572344, 0.03916719, 0.73279623]), 391), ('@natsumifs Buena Nats ! Yo llevo casi año y medio sin fumar y fue la mejor decisión', 'NONE', 'P', array([0.06392905, 0.08642545, 0.07944252, 0.77020298]), 392), ('pásala bien con todos tus seres que el amor y la paz llene tu hogar con tus seres queridos y muchos éxitos en todo ¡!!!', 'NONE', 'P', array([0.07632807, 0.08742914, 0.07389629, 0.76234649]), 93), ('Yo pensaba que el descanso también iba a ser para el fandom, PERO NO! nosotras nunca descansamos Re100 robado #VideoMTV2016 Niall Horan', 'NONE', 'P', array([0.23167893, 0.04063368, 0.0204996 , 0.70718778]), 133), ('!! Yo solía amarla,Yo sabía que la echaría de menos !! #GNR   Empezando El Dia Griss', 'NONE', 'P', array([0.07800736, 0.05946499, 0.09048919, 0.77203845]), 24), ('@JesusAlzamora No yo no lo senti pero dicen que fue de 4... lo bueno es que siempre hay que estar atentos', 'NONE', 'N', array([0.70178845, 0.17859679, 0.02708736, 0.09252739]), 270), ('@DianaSanchez_04 igual Diana desearte una feliz navidad espero la pasé muy bien con la familia Dios te dé muchas bendiciones te amamos', 'NONE', 'P', array([0.09889662, 0.14561903, 0.04151005, 0.7139743 ]), 128), ('@mariann505 jajajaja dale, hacete la boluda vos jajaja igual a vos nunca se te puede tomar en serio te mando un abrazo desde Perú!', 'N', 'P', array([0.09594517, 0.09181513, 0.0498439 , 0.7623958 ]), 175), ('Acabo de ver a una chica con un saco precioso, tan bonito que me enamoré. Lo malo es que ese saco a mí no me quedaría como a ella', 'NEU', 'N', array([0.74273214, 0.07677725, 0.05334865, 0.12714195]), 17), ('@mayrapierola no todas las personas nena. Yo nunca seré cagada contigo', 'NONE', 'N', array([0.70801043, 0.17242888, 0.04440829, 0.07515241]), 301), ('Sí, suelo ser indiferente y despistada a varias cosas, personalidades y actitudes, sobretodo las que no me interesan. Vivo con los mios', 'NONE', 'N', array([0.69652116, 0.04227907, 0.04494637, 0.21625339]), 252), ('Pasan los años pero las resacas siguen siendo un misterio. Ayer tomé ron puro y me he levantado tan pancho, tan fresco. Aquí no pasó nada', 'NONE', 'N', array([0.68232989, 0.07143648, 0.03216794, 0.21406568]), 273), ('Yo sería vegana, pero luego pienso en el tremendo pan con chicharrón y camote que me metí el otro día, y no...soy débil, no puedo', 'NONE', 'N', array([0.69766171, 0.12237864, 0.05240383, 0.12755583]), 79), ('Debo dejar de hacer bromas porque cuando hable en serio no me creerán', 'NONE', 'N', array([0.71292062, 0.13460159, 0.06893369, 0.0835441 ]), 258), ('¡Chica / chico material!! Que la salud y el dinero NUNCA falten este nuevo año #Feliz2017 \\\\o/', 'NONE', 'P', array([0.17092034, 0.0292087 , 0.08014038, 0.71973058]), 182), ('Feliz 2017!!! Cachen más y dejen de ser tan aguantad@s por Tuiter', 'NEU', 'P', array([0.0794516 , 0.12615463, 0.02941596, 0.76497781]), 177), ('@ivyjara No te cambiaria , ni por la mujer más bella del mundo , Porqué Solo tengo ojos para ti ', 'P', 'N', array([0.70074579, 0.18886784, 0.04813047, 0.06225591]), 214), ('Que seriedad pues papá!! A ver el cabello con TINTE? Me da bien? MEJOR PREFIERO NATURAL! Así me identifico', 'N', 'P', array([0.05295441, 0.02404898, 0.23820661, 0.68479   ]), 353), ('Hay dos personas a las que les confío todo y justo en este momento, ni en visto me dejan', 'NONE', 'N', array([0.67025654, 0.08625978, 0.04103339, 0.20245029]), 444), ('@aurpcy YX no, él es tema aparte. Sólo me shippeo con jongdae je Y están próximos, creí eran del mismo signo, iba a shippearlos + hard', 'NONE', 'N', array([0.68650139, 0.17917365, 0.05751619, 0.07680878]), 37), ('.....el que confía, el que ayuda, el que ama de corazón. Ser feliz con uno mismo no es tan difícil, no dejes qie los demás te roben eso', 'NONE', 'N', array([0.63064092, 0.0815279 , 0.00325123, 0.28457996]), 8), ('@Angiecava1995 Jajaja nooo, lo digo porque me parece raro ... Sigo sin ánimos de beber', 'NONE', 'N', array([0.6360143 , 0.24183263, 0.01244538, 0.10970768]), 176), ('Sé fiel a ti mismo, nunca es tarde para hacer las cosas bien', 'NEU', 'N', array([0.64930115, 0.02726054, 0.0346327 , 0.28880561]), 313), ('Me calmo un poco y me voy a comprar por mi cuenta Aunque no tengo ni puta idea a dónde ir, ellos se fueron a donde están las ofertas', 'NONE', 'N', array([0.67224444, 0.22463258, 0.05245276, 0.05067022]), 141), ('@Fantastiqvs Que pases unas lindas fiestas de fin de año y que el próximo sea mucho mejor para ti y los robots ¡Éxitos en todo Aldo!', 'NONE', 'P', array([0.04817099, 0.10113714, 0.11571886, 0.73497301]), 115), ('Ya ni voy a hacer bromas weon porque si yo hubiese leído eso durante la salida de Zayn me hubiese empezado llorado y todo que triste', 'NEU', 'N', array([0.7027821 , 0.08387889, 0.17301799, 0.04032102]), 77), ('Buenos días tuiterlandia! Y hoy en #lavidamodernadetimmy \"me olvide de lavar toda mi ropa\" y las formas de llegar tarde al trabajo', 'NONE', 'P', array([0.04872133, 0.00422177, 0.1649483 , 0.78210861]), 320), ('@hectorandres8 si, parezco niño que cuando sale a la calle todo quiere, y pues me la paso comiendo (flaco no, en vivo se nota mi panza)', 'NEU', 'N', array([0.68105364, 0.07311505, 0.18346621, 0.06236511]), 12), ('Feliz Cumpleaños @unforesto ! Te deseo los mayores éxitos muchacho! . @YurikitoKSP un par de chelas heladas parfavar!', 'NONE', 'P', array([0.07134269, 0.11987039, 0.10189887, 0.70688805]), 206), ('@mfv7 Ayer la agarré a medias. Aún no veo el episodio completo', 'NONE', 'N', array([0.6843903 , 0.1456517 , 0.08192514, 0.08803286]), 293), ('mi última noche en tarapoto la he pasado hermoso estos días y en verdad no quiero irme', 'P', 'N', array([0.65653904, 0.09340912, 0.19029654, 0.0597553 ]), 379), (\"Me he puesto a llorar en plena oficina porque no podía abrir mi bolsa de m&m's y no quería pedir ayuda para no tener que invitar\", 'NONE', 'N', array([0.68123879, 0.16131057, 0.08569699, 0.07175365]), 61), ('Tres cosas para lo que no soy buena: 1- cocinar 2- maquillaje 3- cantar. Pero así me quieren', 'NEU', 'N', array([0.65735824, 0.06822025, 0.04769869, 0.22672282]), 422), ('Soy la unica que quiere un poco mas a Assereto que a Pesaressi? Ojo, no digo que no quiera a GP pero GA, a él lo quiero un poco mas.', 'NEU', 'N', array([0.61356748, 0.02447965, 0.22912122, 0.13283166]), 40), ('@EstefLescano me siento triste amiga', 'NONE', 'N', array([0.68364161, 0.11430013, 0.09631946, 0.10573879]), 302), ('#DalasCastigos No atendia en clase y la profesora para castigarme me mandaba a trabajar en el campo... maldita profesora', 'NONE', 'N', array([0.63300605, 0.08560799, 0.04818112, 0.23320483]), 233), ('#2añosdelegiónholk Un año antes no me imagine , que un grupo(El mejor) sea mas importante que muchas cosas en mi vida', 'NONE', 'P', array([0.35984282, 0.01406697, 0.02279015, 0.60330006]), 149), ('@claudiaizaguirr muchas gracias, de igual manera', 'NONE', 'P', array([0.12558772, 0.06759465, 0.1137571 , 0.69306053]), 328), ('@Libranorte te entiendo, toda mi vida me he sentido igual; pero siempre hay que ser fiel a uno mismo', 'NEU', 'N', array([0.66163397, 0.08272312, 0.02079499, 0.23484792]), 99), ('No tomo alcohol y siento que mi cuerpo esta adormecido', 'NONE', 'N', array([0.66869577, 0.12818622, 0.09280906, 0.11030895]), 267), ('@BleuatreMil se muestran solitos, no está difícil la cosa felizmente', 'P', 'N', array([0.68707824, 0.12878427, 0.07241421, 0.11172328]), 247), ('No te tomes la vida tan en serio. Diviértete y has tonterías cada vez que puedas', 'NONE', 'N', array([0.59243669, 0.29632031, 0.02487033, 0.08637266]), 295), ('@PJimr yo ya pasé todos los gratuitos también. es una maravilla. no he pagado nada. la desconexión forzosa de fin de año creo lo evitará', 'P', 'N', array([0.69332542, 0.08916629, 0.08966153, 0.12784676]), 135), ('Está dicho!..mi vida es una gran aventura, lleno de emociones, decepciones, ilusiones, sonrisas,', 'NEU', 'P', array([0.09186838, 0.15230925, 0.04021029, 0.71561207]), 98), ('@gabogarcia Lo pronunciamos pellót así fuerte!! . Cl', 'NONE', 'P', array([0.14405357, 0.11832555, 0.08896516, 0.64865572]), 399), ('#puraresponde feliz navidad pura pasalo super', 'NONE', 'P', array([0.14952505, 0.12818207, 0.0818054 , 0.64048749]), 127), ('@The_SoulOfLion Hoy no esta juaneco creo', 'NONE', 'N', array([0.65337897, 0.05688794, 0.09701164, 0.19272145]), 85), ('Hoy es Domingo, hoy es domingo, hoy hoy es domingo, domingo es, si es domingo, ya para no olvidarse buen día', 'NONE', 'P', array([0.22409711, 0.13170385, 0.04482216, 0.59937688]), 91), ('@Alexander_Isai0 pKAJAJAJJ yo me siento algo quemado y se mee anda pelando la nariz ahr por no ponerse bloqueador', 'NONE', 'N', array([0.65132161, 0.13801423, 0.09837701, 0.11228715]), 170), ('People be like \"Rojo terruco! Con el terrorismo no se negocia... a menos que se les venda armas, si se les vende armas todo bien \".', 'NONE', 'P', array([0.17096542, 0.17307861, 0.05186454, 0.60409143]), 14), ('@BeluFerruzo si o si regresaras a Perú baby! Es más, cuando leas esto es probable que estés aquí ya #PorFin', 'NONE', 'P', array([0.04401854, 0.10709011, 0.14863942, 0.70025194]), 451), ('@DerLanPan soy buen hombre, hincha de SC, tengo 2 entradas a Norte, no soy revendedor ....... lo malo es que no las estoy vendiendo', 'NONE', 'N', array([0.56689983, 0.24711162, 0.01602358, 0.16996497]), 80), ('@ItsCister y tambien feliz año aun q en mi pais aun no lo sea :V pero igual', 'NONE', 'N', array([0.57818322, 0.10363128, 0.04306676, 0.27511874]), 183), ('Aahhh bueno, gracias a todos por sus buenas vibras, sí quede para el trabajo', 'NONE', 'P', array([0.14836454, 0.05470035, 0.13113139, 0.66580373]), 231), ('@ninobracho no reniegues y pasa un super inicio de año', 'NONE', 'N', array([0.62341719, 0.12964311, 0.08997109, 0.1569686 ]), 338), ('No fue fácil pero la vida sigue', 'NEU', 'N', array([0.67639417, 0.14436365, 0.07301314, 0.10622904]), 475), ('@Phoemi Hola! en estos momento van chequear tu solicitud para poder ayudarte lo antes posible, lamentamos el retraso', 'NONE', 'P', array([0.08987716, 0.06159604, 0.15847828, 0.69004852]), 457), ('Mis demonios internos me dicen tatuajillos pero mi corona me dice no', 'NONE', 'N', array([0.62564814, 0.20321287, 0.09598653, 0.07515245]), 359), ('Al callejerito Hércules le han medio destrozado el ojo derecho Ptm!!! Quien ha sido!!! Maldición, quiero matar!!!', 'N', 'P', array([0.12655292, 0.14220507, 0.07843736, 0.65280465]), 243), ('Ahorita estaria en Cañete, luego ica, huacho, Arequipa, cuzco, etc. Tmr es cierto cuando dicen \"si el tren pasas, tienes que cogerlo\"', 'N', 'NONE', array([0.12766865, 0.04987312, 0.65375293, 0.1687053 ]), 50), ('Mañana voy al estadio me dice un amigo y ganamos, claro le digo aunque Brasil es difícil, no me dice yo gano cuidando carros veste...', 'NONE', 'NEU', array([0.39941461, 0.54278577, 0.01760309, 0.04019653]), 66), ('@JimenaTagle sí, como pasa el tiempo verdad? se siente nostalgia y a la misma ves una alegría inmensa Gracias @JimenaTagle !!!', 'NEU', 'P', array([0.15673379, 0.09120307, 0.1381231 , 0.61394005]), 178), ('Si es que llego a tener hijos no les pondré nombres difíciles de escribir ni de pronunciar, para que no los molesten como a mí jaja', 'NONE', 'N', array([0.6148214 , 0.17031898, 0.09516953, 0.11969009]), 82), ('Hoy con nuevos retos, ya no falta nada de nada para el GRAN día', 'NONE', 'P', array([0.30945825, 0.09371551, 0.04039519, 0.55643104]), 368), ('he leído que hay un cd drama de aizawa con mic donde van a una cita o algo así pero no lo encuentro, no jueguen con mis sentimientos', 'NONE', 'N', array([0.58503556, 0.12218128, 0.07013886, 0.22264431]), 387), ('@mariagraciav gracias! y aun no se que dia pero creo que el 12/13 estare libre en Lima', 'NONE', 'P', array([0.25456969, 0.02945281, 0.10152688, 0.61445062]), 268), ('Cada dia se acerca mas la navidad agamos que todos los niños tengan un motivo x cual sonreir invitalo a tu casa buenos dias!!!!', 'NONE', 'P', array([0.05432013, 0.13303844, 0.15021871, 0.66242272]), 38), ('Creo que mi papá se ha enojado porque le dije que pasaría Año Nuevo con mi mamá y no con él', 'NONE', 'N', array([0.63897449, 0.09253049, 0.12805433, 0.14044068]), 180), ('Ayeeer en Sasuke Shinden! JAJAJA que letra mas fea debe ser de naruto. Por otro lado la policía militar', 'N', 'P', array([0.18981096, 0.07845759, 0.03785725, 0.69387419]), 415), ('@TubinoCarlos te vas de la \"Bankada\"? Que buena noticia... Pero ahora seguro la china te da por el tubino', 'P', 'NONE', array([0.10304437, 0.10806802, 0.64501082, 0.14387678]), 412), ('Mejor me regreso a lee el manga, me cuesta mantenerme optimista justo ahora y tengo ganas de hacer drama. #YAsíaNadieLeAgrado', 'NONE', 'P', array([0.18561262, 0.02231902, 0.14734692, 0.64472144]), 144), ('@jibajawo Espero que para ti tbn sea un buen año.', 'NONE', 'P', array([0.21056512, 0.11520174, 0.09018158, 0.58405156]), 248), ('@inksquid43 sí. Se desató una lluvia intensa y me empapó las únicas zapatillas que tenía y ahora ya no puedo salir a comprar comida', 'NONE', 'N', array([0.62495666, 0.09689137, 0.13150253, 0.14664944]), 285), ('@Elicrema He ahí, el misterio del por qué no llegas a la fase REM, resuelto.', 'NONE', 'N', array([0.55465116, 0.12368978, 0.06123797, 0.26042109]), 245), ('Bueno Bueno Nuevo año Espero q este año sea mejor q el anterior Y comenzare con ultra drivers', 'NONE', 'P', array([0.18779092, 0.15461766, 0.0860758 , 0.57151562]), 194), ('@VaneCastilloP No creo que tanto, ah. Lo que sí, es que será mucho más placentero.', 'P', 'N', array([0.61314635, 0.11960887, 0.13913938, 0.12810539]), 264), ('Cómo es eso que te extraño? Tamaaare', 'N', 'NONE', array([0.14232428, 0.12514299, 0.62052988, 0.11200285]), 468), ('La primera melancolía del año Ojalá la oportunidad regrese y el talento esté ahí siempre u.u', 'NONE', 'P', array([0.28126236, 0.13850808, 0.05212661, 0.52810295]), 407), ('Nunca dejes el fb abierto y tu hermana a lado, es un PELIGRO!', 'N', 'P', array([0.13510009, 0.17826729, 0.076794  , 0.60983862]), 358), ('@carlonchodemoda ya pss quiero ver juego , aguita pa ti!!!', 'NONE', 'P', array([0.10483639, 0.05420891, 0.18423577, 0.65671893]), 442), ('@JesusEduardoG @xeilachvr @YouTube vi ese video hace un tiempo me pareció chevere . Pero no me gusta la canción', 'NEU', 'N', array([0.67213065, 0.20133228, 0.05880447, 0.0677326 ]), 237), ('@Florinm2709 Si no eres una mala influencia, fracasaste como mejor amiga. gracias amiga', 'NONE', 'P', array([0.22879953, 0.07444665, 0.11298742, 0.5837664 ]), 314), ('Necesito un celular decente y mi chip! oshhh al menos una memoria de 32 otra vez! y el próximo año cuzco otra vez por mis fotos!', 'NONE', 'P', array([0.06201267, 0.11402035, 0.17670441, 0.64726258]), 5), ('@MaricieloCernaU justo ayer que vi tu foto te iba a decir que bonita calle', 'P', 'N', array([0.54641023, 0.24346989, 0.13080743, 0.07931246]), 416), ('@JorgeIsique jajajaja feliz año enano cuando vengas ya', 'NONE', 'P', array([0.17879803, 0.14486159, 0.10885723, 0.56748315]), 329), ('Super Junior es un escape a todas las cosas malas que pasan en mi vida, es por eso que al apoyarlos no lo veo como una obligación', 'P', 'N', array([0.68856539, 0.04212275, 0.03896217, 0.23034969]), 55), ('Amigos, me sacaron la mierda hoy pero estoy feliz', 'NEU', 'P', array([0.24171079, 0.11598968, 0.06949926, 0.57280028]), 242), ('Regresé de la playa hoy y literal todo el día he dormido, y aún sigo con sueño', 'NONE', 'N', array([0.50377612, 0.07956104, 0.04860882, 0.36805402]), 157), ('@Bmndjr no funciona en iOS está desarrollada solo para Android', 'NONE', 'N', array([0.56747921, 0.20317141, 0.11350171, 0.11584767]), 402), ('No pude con mi genio y voy a almorzar. Para colmo combinado de pollo con gaseosa', 'NONE', 'N', array([0.59129285, 0.18324149, 0.13753345, 0.08793222]), 375), ('El huevin respectivo debido al feriado...vao a meter una caminata mas sus chelitas para al menos ver que hay abierto en la calle.', 'NONE', 'N', array([0.50647633, 0.17479839, 0.05480845, 0.26391683]), 195), ('@JordiWild Primero los XV de Ruby ahora Tongo, jaja Giorgio de a pocos vas conociendo Latinoamerica ... aunque no la mejor cara', 'NONE', 'N', array([0.50841564, 0.35407301, 0.05824225, 0.0792691 ]), 164), ('@AlfonsoEmilioL La próxima vez que no vea lo entrevisto y pregunto que escucha.', 'NONE', 'N', array([0.57416811, 0.22785101, 0.12417351, 0.07380737]), 300), ('Bueno, ¡a finalizar el último libro que tengo en mi “currently-reading” de @goodreads antes que termine el año!', 'NONE', 'P', array([0.06872607, 0.12827719, 0.177623  , 0.62537374]), 139), ('MAPEO DE PROCESOS!!!! PMBOK ya falta poco... Pronto a vente', 'NONE', 'P', array([0.13934522, 0.14837171, 0.13279229, 0.57949077]), 163), ('No me quiero ir bueno sí pero no', 'NEU', 'N', array([0.62400997, 0.18054276, 0.05704981, 0.13839746]), 296), ('Chiste: Había un elefante que se llamaba maíz vino un pollito y se lo comió. ja! Lo sé el chiste no es bueno pero igual te hice reír', 'NONE', 'P', array([0.37905126, 0.06928963, 0.05465229, 0.49700682]), 42), ('@BTS_twt yo lo estoy viendo ahora..porque tengo que esperar los subtitulos! ️ pero vale la peno...todo sea por el hermoso de V', 'NONE', 'P', array([0.1688539 , 0.1432972 , 0.12283026, 0.56501864]), 207), ('Ese aplauso para Diego Luna y Felicity Jones fue estruendoso. Tengo ganas de ver Rogue One y no puedo', 'P', 'N', array([0.65635739, 0.06138897, 0.06770605, 0.21454758]), 309), ('@BrSC8 @Migvelinho puta que rico csm. Vuelvo al encierro y de paso a comer carnes congeladas por 15 días', 'P', 'N', array([0.54248327, 0.11100577, 0.24400799, 0.10250297]), 467), ('@Anthromet Nunca dije que el docente no enseña. Lo que me interesa es el alumno aprenda, por ello el docente orienta el aprendizaje.', 'NEU', 'N', array([0.64074807, 0.2057534 , 0.05060009, 0.10289845]), 227), ('Manolo: se llama H&M por Hombre y Mujer. Yo: ..pero.es una marca americana, no tendría sentido. Manolo: callate butch. Yo:', 'NONE', 'N', array([0.5289337 , 0.26483865, 0.09431189, 0.11191576]), 1), ('No es que me volví \"ANTISOCIAL\", eso nunca, solo que por respeto a mis criterios y lógicas me volví un \"ANTIALGUNASPERSONAS\" nada mas', 'NONE', 'N', array([0.60860005, 0.0798298 , 0.1747238 , 0.13684634]), 464), ('#HolaATodos @rafaelcardozotv Necio!!!!!! Abre tu cerebro porfavor!!! No es la palabra, es el contexto', 'N', 'P', array([0.22376357, 0.05475931, 0.06447325, 0.65700387]), 136), ('@JessicaaaFranco yeah! yo lo intente but se veia todo oscuro, luego me dasanimé je...pero estaría bien que todo el fandom lo haga', 'NEU', 'P', array([0.0956739 , 0.21416561, 0.04313639, 0.64702411]), 131), ('Con entusiasmo y optimismo en este primer día del año. Todo depende de lo que Dios me tiene preparado. #VamosConFe', 'NONE', 'P', array([0.13063093, 0.06643748, 0.18612098, 0.61681061]), 153), ('@lizdanielalina1 solo rt #QueremosERDLalas930pm no des corazón plis', 'NONE', 'N', array([0.54349006, 0.08879825, 0.11351581, 0.25419588]), 167), ('Empezamos con un par de problemillas nooooo pero este año hay que ser más +++', 'NEU', 'N', array([0.56851956, 0.14343456, 0.1283218 , 0.15972407]), 151), ('Cusco, la luna y yo, recibimos com los brazos abiertos al primer día del 2017 #cusco…', 'NONE', 'P', array([0.11289478, 0.10430383, 0.17979902, 0.60300237]), 341), ('Tantos argentinos y @triedtodomeache no viene', 'NONE', 'N', array([0.55554049, 0.19477422, 0.13237451, 0.11731078]), 263), ('Todo estaba bien con esta idea de salir a correr, hasta que me puse el polo que usaba hace 5 meses, la última vez que entrené y adiós', 'NONE', 'P', array([0.22813132, 0.25062572, 0.04921711, 0.47202585]), 20), ('Vine en bici a un curso de mi chamba en San Isidro. Genial...!! Solo mi pelo ha sufrido estragos. Pensare en algo para q mañana no suceda', 'NONE', 'P', array([0.37991729, 0.14966044, 0.02397788, 0.44644439]), 22), ('@Kano_8_ Lo mejor para el es que salga del Club Zidane no le da la Oportunidad de Jugar! A mi no me gusta que este en la Banca.', 'NEU', 'P', array([0.23230093, 0.09736629, 0.15166739, 0.51866539]), 39), ('Vamos Ame vamos....bahhh.....q mas da.....conence el año cansada..... quiero solo dormir hoy....', 'NONE', 'N', array([0.47467742, 0.05440234, 0.05340582, 0.41751442]), 239), ('@LoboDeAndunie que buena, esos alucinados que fingen ser Lobos, y esos que fingen ser gay y no saben nada de nosotros', 'NONE', 'N', array([0.46883889, 0.1442521 , 0.04867823, 0.33823079]), 383), ('Viendo con mi gordiflaqui LOCA POR LAS COMPRAS y el diciendo se parece un poco a ti o tu a ella jjajajajaja yo no compro tanto', 'NONE', 'N', array([0.53472859, 0.23362503, 0.11564359, 0.11600279]), 3), ('Recibir el año nuevo sin luz, que sean las 10 y sigamos sin luz #micelmuere #notengobateria', 'N', 'P', array([0.14274686, 0.0694347 , 0.22732621, 0.56049222]), 196), ('@fioyaz Es que tu tuit me recordó a un diálogo de una serie muy graciosa que yo veía seguido antes. Pero no es', 'NONE', 'N', array([0.53403038, 0.16922308, 0.11698118, 0.17976536]), 347), ('Desde hoy haré mejor las cosas', 'NONE', 'P', array([0.26503574, 0.04075504, 0.13921653, 0.5549927 ]), 443), ('@CheLa_is Marcelitaaa, aprovecha nuestro hermoso clima. No sabes cuánto se extraña', 'P', 'N', array([0.59132495, 0.15172098, 0.08096465, 0.17598942]), 461), ('El mejor #piropo de mi vida «estás #buchisapa y pareces un #kion»', 'N', 'P', array([0.21482786, 0.05933094, 0.09571508, 0.63012612]), 289), ('@KarolCavero Hola amiga, hermana de mi buen amigo. Ni para mi tengo', 'NONE', 'N', array([0.46290609, 0.0546819 , 0.05088002, 0.43153198]), 417), ('Me preguntó mi nombre!!! Mi último día e interactúo con Samuel! Vaya suerte la mía', 'N', 'P', array([0.17470141, 0.10354611, 0.13509635, 0.58665612]), 162), ('Les personas no somos eternas Lo más importante es el legado que dejamos, la enseñanza para toda una familia y una generación', 'NEU', 'N', array([0.61424091, 0.20469388, 0.07301664, 0.10804857]), 477), ('Me he dado cuenta que soy de emocionarme con cosas pequeñas, si no estuviera en la biblioteca estaría saltando de felicidad #Feliz', 'NONE', 'P', array([0.38417374, 0.05029333, 0.07851295, 0.48701999]), 408), ('Ouch!! ese momento incomodo cuando te preguntan que le viste? ó, no se porque estuviste con el? .... El aspecto no lo es todo', 'NEU', 'P', array([0.30733315, 0.08168769, 0.12142301, 0.48955615]), 35), ('Feliz de ver a mis amigos felices #BuenaVibraAlFin', 'NONE', 'P', array([0.10876847, 0.22075678, 0.13146605, 0.5390087 ]), 212), ('Te das cuenta que ya te va a venir la regla porque te estás empezando a poner bipolar y los antojos por comer dulces aumentaron', 'NONE', 'N', array([0.61839836, 0.06916537, 0.21321242, 0.09922386]), 120), ('@Hctor23188075 @pcmperu no sé eso espero, y lo mismo que anulen eso de la prescribición de los delitos, no sé si menciona algo de eso', 'NONE', 'N', array([0.48408212, 0.33802197, 0.07929501, 0.09860091]), 463), ('¿nunca han soñado que estan apuñalando a alguien y al ver que la sangre brota les provoca más clavarle el cuchillo?,¿no?,¿Soy solo yo?', 'N', 'NONE', array([0.16584238, 0.13328545, 0.56670817, 0.134164  ]), 481), ('@EchavarriaNaya y lo bueno que no engordo', 'P', 'N', array([0.56522541, 0.15929978, 0.10412619, 0.17134861]), 265), ('A: Ven aquí... Hey estás fumando! B: Pero todos están fumando A: Sí pero a quien voy a besar, a ellos o a ti? #MeCago #MeEnamore', 'NONE', 'P', array([0.03847666, 0.03793992, 0.26578442, 0.657799  ]), 105), ('No, la verdad es que no sé qué haré por el cumpleaños de Yixing. O sea, ¿han visto todo lo que hacen las xingmis? Son muy lindas', 'P', 'N', array([0.48670008, 0.28457883, 0.1335248 , 0.09519629]), 19), ('A recuperar la resistencia física, hola Viernes sangriento!!!', 'NONE', 'P', array([0.10865199, 0.10123276, 0.19944705, 0.5906682 ]), 397), ('La realidad es que ella ya no es mi mejor amiga', 'NONE', 'N', array([0.58815851, 0.11704791, 0.19704167, 0.09775191]), 491), ('Buenos días!!!! mi pensamiento esta mañana al despertar es que si o si tengo que ir a dar un paseo al parque y disfrutar de la naturaleza', 'NONE', 'P', array([0.14639735, 0.12217651, 0.1703957 , 0.56103044]), 15), ('@esquinabaja si pues, lo publica en su muro sin tu tag e igual todos tus conocidos verán esa foto. jaja ya fue! o tierra tragame!', 'NONE', 'P', array([0.13681866, 0.15570505, 0.15872764, 0.54874865]), 57), ('Cuando sales a comer solo #sunglasses #blackandwhite #bn #mall @ Real Plaza - Centro Civico', 'NONE', 'N', array([0.46611877, 0.14100357, 0.07810481, 0.31477286]), 304), ('escucho una canción romántica, de esas que serían hermosas dedicar, pero no hay nadie en quién pensar Nadie me gusta carajo', 'NONE', 'N', array([0.49336111, 0.16332604, 0.10542863, 0.23788422]), 279), ('@Joe_Padisha_Mon @DiarioDeCurwen Estaba en otro horario pero yo no podía ir. Claro, como mejor te acomode.', 'NONE', 'N', array([0.4282722 , 0.22034171, 0.04109349, 0.31029261]), 298), ('Me gusta mucho ir a Chepén y estar con la familia de Kike. Lo que no me gusta es tener que trabajar el lunes siguiente', 'NEU', 'N', array([0.50283798, 0.11818928, 0.02697643, 0.35199631]), 331), ('@Sol_4843 si lo es! pero a mi no me pegó del todo la sentí bien poltergeist, lo cual no quiere decir que sea mala solo que no me \"atrapó\"', 'NEU', 'P', array([0.17339911, 0.14541025, 0.15182272, 0.52936792]), 7), ('Seré breve: quiero yuquitas y por mi chamba no venden', 'NONE', 'N', array([0.47716132, 0.16353088, 0.09411073, 0.26519706]), 478), ('Lo que decidas hacer. Asegúrate que te haga feliz #EsteVeranoDebería #SerIntenso', 'NEU', 'P', array([0.33420996, 0.09661038, 0.09033562, 0.47884405]), 222), ('@esquinabaja LO vi !! lamentable realidad', 'N', 'P', array([0.14809551, 0.17983676, 0.14319429, 0.52887343]), 322), ('Y bueno, fue un año nuevo diferente. Pero se acabó y ahora toca volver a la realidad', 'NEU', 'P', array([0.2439844 , 0.11868056, 0.14407596, 0.49325909]), 372), ('El quinto día #cousins #Holidays @ Previos Restobar-Pub', 'NONE', 'P', array([0.19273326, 0.14338121, 0.14500529, 0.51888024]), 95), ('Cumplí mi caprichito buena compañía #ceviche #chela #pilsen', 'NONE', 'P', array([0.14330065, 0.13013062, 0.17638673, 0.550182  ]), 108), ('@Isaa5309 Sabíamos que en la mañana, en el caso de SONE, la mayoría trabaja y eso pero valía la pena al menos fuimos en Lima #TeamSNSD', 'NONE', 'N', array([0.47302561, 0.10345877, 0.09949295, 0.32402267]), 236), ('Aprovecharé que no hay nadie en mi casa para subir el volumen lo más alto, gritar a pulmón, y bailar', 'NONE', 'N', array([0.48428663, 0.266124  , 0.11174188, 0.13784748]), 116), ('Sólo piensa q diste todo... y duermes tranquila', 'NONE', 'NEU', array([0.34111895, 0.44087167, 0.07395756, 0.14405182]), 356), ('@adricordva pero y que pasa con \"todo lo puedo en cristo que me fortalece\" \"solo Dios le da batallas a los fuertes\" nada de eso? jajajaja', 'N', 'NONE', array([0.20901475, 0.07837836, 0.57495882, 0.13764807]), 53), ('se suave, no dejes que el mundo te haga duro, no dejes que el dolor te haga odiar, no dejes que la amargura robe tu dulzura.. \"PERDONA\"', 'NONE', 'N', array([0.47757441, 0.36233649, 0.11191351, 0.04817559]), 11), ('@ccori_alejandra y yo te extraño un mundo! este verano sin ti destruye mi alma #dramaon', 'N', 'P', array([0.19020542, 0.09387935, 0.16482549, 0.55108974]), 459), ('@Madrebeagle no todo es perfecto', 'NEU', 'N', array([0.55554049, 0.19477422, 0.13237451, 0.11731078]), 100), ('Después de siete largos años vuelvo a pasar navidad junto con mi mamá, mi papá y mi hermana. Todos juntos con una yapita de sobrino.', 'NONE', 'P', array([0.32192716, 0.12015065, 0.09929354, 0.45862865]), 92), ('Dios aprieta pero no ahorca, creo que es muy cierto', 'NEU', 'N', array([0.44577249, 0.08863844, 0.18366404, 0.28192503]), 411), ('Aveces cuando leo sus tuits y no entiendo algo, me dan ganas de preguntarles para entender mejor. Pero soy tímido y me quedo con la duda', 'NONE', 'N', array([0.46446747, 0.05571353, 0.11021548, 0.36960353]), 73), ('@pattyulloque Feliz y saludable año nuevo', 'NONE', 'P', array([0.18794273, 0.20383037, 0.12933179, 0.47889511]), 200), ('Mañana de nuevo a lo de siempre.', 'NONE', 'N', array([0.43447617, 0.32356344, 0.08657011, 0.15539029]), 335), ('Adios pajita jajajaja #ReproducePonteBonitaByMHart #VillaranCoimera #SIGUEMEYTESIGO #SiguemeYTeSigoAlInstante…', 'NONE', 'P', array([0.22579145, 0.10919829, 0.15866665, 0.50634361]), 426), ('Bajar mucho de peso y no sentirse contenta. Será porque no fue a base de ejercicios. Un mes y quedé', 'NEU', 'N', array([0.54716955, 0.19954995, 0.12268803, 0.13059246]), 86), ('@ElohaLing Ayyy, no debí haber tuiteado esto. Olvidé que estabas por acá, no me odies ( Hablo en serio, no es sarcasmo )', 'NEU', 'N', array([0.53890049, 0.19578919, 0.05974907, 0.20556125]), 83), ('@zophiap vaya manera de despedir este año... pero en otros lugares su bienvenida fue fatal', 'NONE', 'N', array([0.44112445, 0.16245624, 0.09996837, 0.29645093]), 188), ('Vamos a trabajar más en ello No puedo volver a ser una persona flemática', 'NEU', 'N', array([0.59281978, 0.25486253, 0.01897388, 0.13334381]), 351), ('Quiero un perro así porfiii.', 'NONE', 'P', array([0.33690301, 0.12729354, 0.09973922, 0.43606424]), 218), ('@MilesdeMiles_ esto es en serio? Pobrecito!', 'N', 'P', array([0.09803416, 0.12940025, 0.33945855, 0.43310705]), 410), ('_ Dibujas muy bonito, pequeño saltamontes. _ Sí. *se pone a saltar* _ _ Cuando sea grande voy a ir a las artes. _ A Bellas Artes. _ Sí.', 'NONE', 'NEU', array([0.32334753, 0.39214616, 0.05824254, 0.22626377]), 62), ('Mejor no llamo por teléfono a nadie o los mandaré al carajo', 'NONE', 'N', array([0.48927269, 0.15125793, 0.15919855, 0.20027083]), 490), ('#2AñosDeLegiónHolk Llevo como unos 8 meses Talvez menos o mas no sé Me enseñaron y demostraron que LH es algo magico', 'P', 'N', array([0.57194048, 0.14501696, 0.03487794, 0.24816462]), 160), ('@AndresWieseR cuerito!! Que lo hayas pasado súper grandioso!!! Felices 33, debemos cuidarte más este año!! Edad de cristo!!', 'NONE', 'P', array([0.15169768, 0.13358382, 0.19583911, 0.51887939]), 118), ('\"Contigo porque me matas y ahora sin ti ya no vivo\" -->Tal cual! Te mereces todo lo que has conseguido y conseguirás @AbrahamMateoMus', 'N', 'NONE', array([0.11917647, 0.16426098, 0.44204226, 0.27452029]), 36), ('Trato de manejar esa sensación de: \"no me soporto a mi misma\" de estos ultimos 2 días ¡qué dolor! Es que no soy yo misma. #malditoandres', 'NONE', 'P', array([0.34865234, 0.03274426, 0.14832144, 0.47028195]), 41), ('Que bonito debe ser vivir así, siendo caradura y sin pedir disculpas', 'N', 'P', array([0.20960717, 0.1996477 , 0.06113966, 0.52960547]), 483), ('No se que está pasando conmigo ultimamente, pero extraño a toodooos', 'NONE', 'N', array([0.50574297, 0.1996792 , 0.18947756, 0.10510027]), 352), ('Mi jefe me acaba de regañar por un error que él cometió Al medio del regaño recordó que era su culpa y cambio de tema.', 'NONE', 'N', array([0.46280943, 0.23778045, 0.14846205, 0.15094807]), 484), ('Feliz navidad y un increíble 2017 para toda la familia del voleibol peruano en especial a mis queridos colegas de @ZonaAtaqueCMD', 'NONE', 'P', array([0.11367308, 0.33575764, 0.11914297, 0.43142632]), 130), ('@Terafobia buenos días princesa Era inevitable, tenía que decir esa frase de #lavidaesbella', 'NONE', 'P', array([0.17669285, 0.07489691, 0.21917486, 0.52923538]), 324), ('@cinencuentro gracias por compartir el teaser amigos de Cienencuentro', 'NONE', 'P', array([0.16008876, 0.13046118, 0.20150929, 0.50794076]), 381), ('Quiero ver todos los caps de la nueva temporada de Sherlock right now, pero luego sufriré esperando 3 años más para la próxima temporada', 'NONE', 'P', array([0.21607883, 0.01877398, 0.22941753, 0.53572966]), 150), ('Por cada detonación de pirotéxnicos a mi Morita parece darle un infarto ¡Terminen de una vez con eso!', 'NONE', 'P', array([0.09849577, 0.35994004, 0.11942098, 0.4221432 ]), 187), ('Hazme un favor y has lo posible por no cruzarte conmigo este año', 'NONE', 'N', array([0.53036348, 0.15668165, 0.22795864, 0.08499624]), 496), ('No entiendo la actitud agresiva gratén de tuiter. Si te jode lo que digo no masoquees y no me sigas. Es lo sano', 'NEU', 'N', array([0.5414572 , 0.24185219, 0.13219082, 0.08449979]), 437), ('@VictorinoSv yo amenecí mal y estaba en el hospital u.u pero ya estoy regresando a casa.', 'NONE', 'N', array([0.40966603, 0.35589849, 0.11054699, 0.12388848]), 286), ('@JayroCerasuolo oh no te la debo negrito, lo lamento, prometo ir al próximo kaos ir desde las 8 pm y guardarte cola', 'NONE', 'N', array([0.41251082, 0.23623541, 0.1143426 , 0.23691118]), 90), ('Lilo y Stich Somos ohana #Ohana #Familia #LiloyStich', 'NONE', 'P', array([0.23374065, 0.11736804, 0.17566046, 0.47323085]), 276), ('Estoy arta de que todos digan ay si es bien difícil, ay si es bien sacrificada, ay si tienes que estudiar, ay si se van a la mierda?', 'N', 'NONE', array([0.13314032, 0.10053277, 0.42083833, 0.34548858]), 10), ('Hasta lo peor de mi, quiere lo mejor para ti', 'NEU', 'N', array([0.38520893, 0.09829464, 0.18300105, 0.33349538]), 291), ('Toca ir a trabajar así me duela el tobillo, necesito el dinero ya que ahora es mi único ingreso.', 'NONE', 'P', array([0.24108739, 0.18553979, 0.14428874, 0.42908408]), 255), ('No soy celosa, sólo marcó mi territorio', 'NEU', 'N', array([0.52300395, 0.24316752, 0.11308523, 0.1207433 ]), 272), ('Ojalá que al chico de lado, que acaba de salir de una entrevista, lo llamen sería un buen regalo de Navidad', 'NEU', 'P', array([0.28082256, 0.19983607, 0.04073484, 0.47860653]), 124), ('Una de las cosas más maravillosas en mi mundo es salir tarde y llegar a tiempo', 'P', 'N', array([0.49761292, 0.16098166, 0.12130814, 0.22009728]), 241), ('Un nuevo ciclo y con muchas cosas por realizar', 'NONE', 'P', array([0.23447376, 0.12427225, 0.18429204, 0.45696195]), 327), ('Empezando un nuevo viaje #amoviajar', 'NONE', 'P', array([0.20597837, 0.13395674, 0.19439788, 0.46566701]), 171), ('Yo, la que te reza, la de mil caricias calmas, la que te suspira, la de sueños eternos. Sigo siendo yo, contigo, sin ti, tan tuya sin ti', 'NONE', 'P', array([0.3068939 , 0.31028029, 0.05862995, 0.32419586]), 4), ('@RoxyMarquez91 me puedo volver loco yo quiero me MUERO POR UN GATITO', 'NONE', 'N', array([0.39945062, 0.16827246, 0.13655549, 0.29572143]), 494), ('@ivyjara Me cambiarias Por dinero o Por El chico más guapo del mundo', 'NONE', 'N', array([0.41807441, 0.29318017, 0.15712565, 0.13161976]), 360), ('@atenea2guerrera maldita sea !!!!! no fui yo Gracias Kellyyyyyyyyy !!!!!!!!!!!!!', 'NEU', 'P', array([0.36600168, 0.13124417, 0.11137287, 0.39138128]), 419), ('Esos primeros puestos para Nadine, Alan y Keiko están bien ganados, más bien creo que Ollanta debería estar más abajo. @Imapax', 'NEU', 'N', array([0.38673422, 0.12713178, 0.11137167, 0.37476233]), 189), ('@ludwikapaleta si, muy hermoso, y eso que no me conociste a mi', 'P', 'N', array([0.41179326, 0.25367869, 0.18122799, 0.15330007]), 418), ('Fabiola dijo que le pida trabajo a su papa en su constructora , uhmm era que vaya', 'NONE', 'P', array([0.30504481, 0.16297501, 0.13816934, 0.39381084]), 208), ('Quiero decirte, hola, como estas? Pero... los check azulitos me dan miedo', 'NEU', 'N', array([0.33067866, 0.0835781 , 0.30844168, 0.27730157]), 260), ('@AlejVillalobos @mczorro No es perfecta, tiene sus cositas. Pero el balance es bueno, bastante bueno. Y claro, sales cantando', 'P', 'N', array([0.52834364, 0.14772245, 0.04117707, 0.28275683]), 388), ('@elmejorerico @silva_alvan @meiermq si los Ramirez dicen q son honrados,becerril q es buen padre,Chacón q sí tiene educ.X q no me crees ?', 'NONE', 'N', array([0.48975339, 0.10917923, 0.24599542, 0.15507197]), 106), ('@EstefaniaM siempre habrá algo amiga, pero con el tiempo lo superas y pierden importancia', 'P', 'N', array([0.47654033, 0.20676597, 0.08256876, 0.23412494]), 466), ('@SamanthaLaraC faltabas mi samo, la familia unida jajajajaja, te extraño, venn', 'N', 'P', array([0.19280591, 0.17575836, 0.19701665, 0.43441908]), 389), ('@Gadhafy a mi me renovaron y no me tocaron (hasta ahora) el sueldo así que ando más o menos easy', 'P', 'N', array([0.42792132, 0.23876351, 0.14434003, 0.18897515]), 374), ('Que rico es ir al cine sola. Llorar y cagarte de risa a la vez sin que nadie te critique. Hermoso. Repetiré la misma hazaña más tarde', 'P', 'N', array([0.40844518, 0.38847413, 0.02864475, 0.17443594]), 471), ('Mario si me dio pena con esta frase: \"Se que hoy en dia es muy dificil q una chica se acerque a mi\" jajajaja SOLTERA REMIX EN AL AIRE', 'N', 'P', array([0.272082  , 0.08534429, 0.13726663, 0.50530709]), 33), ('Putamare!!.. El tío gritó el gol en mi oído estando en el metropolitano!!.. Y lo peor es que yo asustado grité como jerma!!.. Quemadazo!', 'N', 'P', array([0.24593514, 0.08994557, 0.18575228, 0.47836701]), 56), ('@LaliaB24 Igual después del 20 se quedan sin chamba esos payasos. Lo único bueno de ese día: no quedará UN SOLO obamista en la Tierra.', 'P', 'N', array([0.5055468 , 0.1588506 , 0.06248383, 0.27311877]), 436), ('Mi celular se cayó horrible y por lo visto se afectó la cámara frontal.', 'NONE', 'N', array([0.37127933, 0.27692447, 0.13898457, 0.21281162]), 318), ('Soy una mrd de persona con buenos deseos', 'NEU', 'P', array([0.22981896, 0.20599986, 0.12989698, 0.4342842 ]), 288), ('@danidiazcordova @Silvia_Dg pero que mejor se dedique a salud pública ella es mi esperanza', 'NEU', 'P', array([0.26560111, 0.10163332, 0.3044514 , 0.32831416]), 344), ('la rompas en el primer año de sozu psdta: y si acabas de mandarnos indirectas por twitter y hablamos por wsp y fb no tengo problemas....', 'NONE', 'N', array([0.35701581, 0.21839995, 0.13038137, 0.29420287]), 58), ('Resaca vete ya Mañana tengo que trabajar', 'NONE', 'N', array([0.38310564, 0.27829282, 0.15726472, 0.18133682]), 332), ('@guillevaldes como siempre impecable Guille', 'P', 'N', array([0.40987442, 0.26533118, 0.13797116, 0.18682324]), 60), ('@JohnsitoCb Ya sabía que un chivito se iría a la mariconada.', 'NONE', 'N', array([0.40667485, 0.19939226, 0.18580553, 0.20812736]), 495), ('Necesito un te canela en serio no se si llorar o estar alegre o no se que me siento desubicado', 'NEU', 'N', array([0.51484219, 0.29430418, 0.09269321, 0.09816042]), 32), ('@Martinalonsor es que estoy sola', 'NONE', 'N', array([0.41470589, 0.19437119, 0.19473943, 0.19618349]), 213), ('A veces me gustaría que a novia le gustara Disney tanto como a mi. Salen nuevas pelis o avances y necesito fangirlear', 'NEU', 'NONE', array([0.32995402, 0.11635045, 0.33615045, 0.21754507]), 143), ('Ser feliz si eso significa alejarte de personas que quieres pero que te hicieron daño importa mas tu felicidad', 'NEU', 'P', array([0.3174428 , 0.19233027, 0.0785081 , 0.41171883]), 449), ('—¿A dónde vas tan maquillada? —A una fiesta, mamá. —¿Eres el payaso? —¡MAMÁAAA! —JAJAJÁ, cállate y hazme reír o no vas. —Ok.', 'NONE', 'N', array([0.37946041, 0.11113324, 0.1624821 , 0.34692425]), 59), ('Peeeeeero que necesidad hay para que tanto problema. JAJAJA', 'NONE', 'P', array([0.3295996 , 0.17622272, 0.1387714 , 0.35540628]), 238), ('RIP Dean \"pestañas perfectas\" Winchester. Ya sé que va a regresar en el siguiente capítulo, pero igual', 'NONE', 'N', array([0.48656325, 0.06248001, 0.27042759, 0.18052914]), 261), ('Todas creemos ser diferentes para esa persona en especial. La verdad es que quien es diferente es el. Ytb hace que pensemos \"conocer\"', 'NONE', 'NEU', array([0.32656718, 0.32781236, 0.11236039, 0.23326008]), 400), ('@Lizzfrr el nuevo Dr Vet @fernandomerino ayudeme mi perrita no acepta a un cachorro que le hemos dado temporal que hago?', 'NONE', 'N', array([0.51086862, 0.10660915, 0.29681344, 0.08570879]), 414), ('@LightAfterRain_ Ya sé, pásame tu número por interno y yo te paso todo por wpp, de paso que tú también me ayudas con NCT y así', 'NONE', 'N', array([0.35080593, 0.16513155, 0.14102849, 0.34303403]), 96), ('@vanessasaba75 que tengas un lindo jueves ...', 'NONE', 'N', array([0.32931916, 0.27293307, 0.12043155, 0.27731621]), 172), ('#2AñosDeLegiónHolk No importa que seas \"niu\" o \"old\" Si amas a LH , eres bienvenido a mi casa', 'P', 'NONE', array([0.29218665, 0.17304395, 0.37083198, 0.16393743]), 161), ('Solo han pasado 2 horas desde que me levante y ya tengo sueño de nuevo', 'NONE', 'N', array([0.40424096, 0.25860454, 0.1981459 , 0.1390086 ]), 405), ('@gialau04_ ta weno, es que me pongo celosa', 'NEU', 'N', array([0.40453517, 0.19946986, 0.17540413, 0.22059083]), 377), ('Mientras mi jefe no se entere todo ok lol Los demás si tenemos sentido común', 'NONE', 'N', array([0.42464391, 0.24494017, 0.22136369, 0.10905224]), 456), ('@atenea2guerrera @JorgePonceCaraz siii !! eso haré !! yo no ubico esa publicación alucina ! que raro', 'NONE', 'N', array([0.34655506, 0.20651787, 0.14478853, 0.30213855]), 421), ('@magnobolivar 1) wordpress es más pro. 2) Yo tengo un blog, pero mis lectoras son más de estilo upsocl y buzzfeed, eso aún se lee', 'NEU', 'N', array([0.39406306, 0.19253251, 0.19411669, 0.21928774]), 49), ('El dolor de rodilla no me ha parado desde el primer día', 'NONE', 'N', array([0.39911548, 0.20597221, 0.19931335, 0.19559897]), 452), ('@LuciaLu26 JAJAJA crjo, no lo dije por ti mi primer saliente fue a esa edad y mi mamá nunca lo aceptó por esto que recién entendemos', 'NONE', 'N', array([0.42702455, 0.12185971, 0.23118951, 0.21992623]), 81), ('¿Alguien de buen corazón que quiera hacerse el desayuno?', 'NONE', 'P', array([0.1335296 , 0.12499267, 0.27282458, 0.46865314]), 281), ('Traigo un bronceado envidiable. Mentira. Todo me arde', 'NEU', 'N', array([0.40422934, 0.21224881, 0.18569831, 0.19782354]), 404), ('Quiero unas verdaderas vacaciones. Las necesito.', 'NONE', 'P', array([0.32266761, 0.18259477, 0.152533  , 0.34220463]), 394), ('Me he en encontrado como 8761653729751528763 Colombianos entre Lima y Nasca, Perú.', 'NONE', 'N', array([0.37958603, 0.19555956, 0.19015351, 0.23470091]), 283), ('@Slayer_X @hdanniel hoy juega el Liverpool con el City (y también son las semifinales del futbol americano universitario)', 'NONE', 'P', array([0.31390727, 0.10194689, 0.19748458, 0.38666126]), 138), ('Bueno,gracias a algunos(casi gratis) por confiar su salud en mi(un año más) no se enfermen mucho este año pues, jaja mentira, saludos', 'P', 'N', array([0.56309072, 0.02973725, 0.02959203, 0.37758   ]), 142), ('Es tiempo de una nueva aventura', 'NONE', 'N', array([0.33998269, 0.1661098 , 0.15801181, 0.3358957 ]), 423), ('@felibesset @GilmoreGirls esperamos los nuevos capítulos', 'NONE', 'P', array([0.24334328, 0.20089781, 0.18722318, 0.36853574]), 72), ('@Victoriaasabo vi hasta el 2do episodio pero te hare caso', 'NONE', 'N', array([0.37755951, 0.25063624, 0.20090074, 0.1709035 ]), 343), ('¿Quién va a querer a un tipo que llega a su casa a las 12 de la noche a su casa 5 veces por semana? ¿Y que no tiene findes ni feriados?', 'N', 'NONE', array([0.37574184, 0.05076791, 0.54644303, 0.02704722]), 43), ('@paunik oh. los mios tampoco, asi que por eso lo veo solo, en la tele vieja', 'NONE', 'NEU', array([0.2607928 , 0.34901919, 0.17899238, 0.21119562]), 305), ('Siempre me tengo que enamorar de alguien en el micro y cuando me bajo, despedirme es lo más doloroso', 'NONE', 'N', array([0.33775737, 0.33011415, 0.17220507, 0.15992341]), 350), ('#FinDeSemanaPara perderse hasta las últimas con los amigos', 'NONE', 'P', array([0.24759494, 0.14784325, 0.21985822, 0.38470359]), 401), ('Todo sacrificio tiene su recompensa Este mes me toco estar apretada de dinero pero todo sea por mi salud Llegaran tiempos mejores', 'NEU', 'N', array([0.35045246, 0.18851787, 0.16363919, 0.29739048]), 16), ('@Efrainpuntocom sígueme por ig por allá estoy más activa que aqui', 'NONE', 'N', array([0.37482146, 0.21378193, 0.21636389, 0.19503272]), 228), ('@nashi_awaji claro! Es una trilogía genial aunque depresiva, Pero no se xq ayer cuando dijiste del Kage... tenía una mezcla en mi cabeza', 'NEU', 'P', array([0.15817614, 0.33454835, 0.01641721, 0.4908583 ]), 230), ('Entró una venezolana a trabajar en la empresa donde laboro. Me apena la crisis en su país, está bien jodido todo allá.', 'N', 'P', array([0.27582615, 0.16369956, 0.13138879, 0.4290855 ]), 234), ('@Lucialacruel en mi casa tampoco JAJAJAJAJA', 'NONE', 'NEU', array([0.27656229, 0.35679868, 0.20367436, 0.16296466]), 112), ('Me he guardado desde el jueves para salir hoy... y mi mejor amiga me dice: me vino la regla, no la hago. La odio por perra!', 'N', 'P', array([0.41301562, 0.01946012, 0.003786  , 0.56373826]), 31), ('Fragmento del regalo de navidad de mi Mami ELLA SI SABE. Como escribir libros sin escribir ninguno by OSHO', 'P', 'NONE', array([0.13838357, 0.27266642, 0.36978468, 0.21916532]), 277), ('a mí me dicen ven a mi casa a las 2 y lo multiplico por 4, nos vemos a las 8, papu', 'NONE', 'NEU', array([0.21744549, 0.40285332, 0.25345082, 0.12625037]), 385), ('Levántate a hacer pis y de paso háblame', 'NONE', 'N', array([0.41848599, 0.10846141, 0.27407187, 0.19898073]), 473), ('Que rico es dormir con el sonido de la lluvia', 'P', 'N', array([0.33558175, 0.27265086, 0.19942573, 0.19234166]), 342), ('A ver cuantos extranjeros consignan direcciones falsas, vayan y arrestenlos, cuando uno viaja a otro país te exigen todo, donde y cuando', 'N', 'P', array([0.2039937 , 0.16773175, 0.28333992, 0.34493463]), 303), ('que rico es salir a esta hora del trabajo más tiempo para escuchar @RadiomarPlusFM y a mi @Nandocabanillas', 'P', 'N', array([0.43565457, 0.11785529, 0.14804599, 0.29844415]), 299), ('Vos enamorate a tu mejor amiga sin que ella lo sepa pero el dia que vos lo sepa o se lo diga como ella lo tomara .... Rzpsta', 'NONE', 'P', array([0.23865799, 0.16658066, 0.23006341, 0.36469794]), 9), ('Uy el trío del masajeo prostatico mutuo se está muy calladito, seguro que estarán botando todo lo relacionado con el jueguico ese.', 'NEU', 'N', array([0.35812847, 0.22412176, 0.18399416, 0.23375561]), 132), ('@lovingmykookie extrañare este tweet como fijado', 'NEU', 'N', array([0.34621996, 0.21245019, 0.20419522, 0.23713463]), 87), ('Me hacen feliz estos momentos', 'P', 'NEU', array([0.15906723, 0.42404124, 0.12466968, 0.29222184]), 259), ('Sanguchitos, cafecito calientito y maraton de peliculitas de #Saw... Yo tambien me llamo Perú. Asi o mas tranqui??? Dulce o Truco???', 'NONE', 'P', array([0.29368129, 0.05183068, 0.26151119, 0.39297684]), 28), ('@JessicaSolano veras que no es nada grave, mejor ahora que le hagan todo... yo también por San Miguel sola', 'P', 'N', array([0.40946505, 0.13066215, 0.17994555, 0.27992725]), 168), ('La tierra del olvido es una bonita canción, pero cuando la pienso Iquitos sería la tierra olvidada porque seguimos tantos años hasta las', 'N', 'P', array([0.22203527, 0.18141872, 0.24500885, 0.35153716]), 109), ('Reyes magos ; dinero .incienso y mirra para un rey que seria crucificado #Jesus', 'NONE', 'N', array([0.4078922 , 0.12326025, 0.27853744, 0.19031011]), 346), ('En boca de mentiroso lo cierto se hace dudoso.', 'NONE', 'P', array([0.28532376, 0.1452486 , 0.22050412, 0.34892352]), 429), ('@LuchoCastanedaL prohibir paraderos En Pza Union, Pza 2 Mayo agilizaria el tráfico.', 'NEU', 'N', array([0.36358168, 0.23626965, 0.1497815 , 0.25036718]), 370), ('Ya me olvidé cuál era el canal de youtube donde se podía ver cbt ayer pero espero que lo pasen otra vez TE VEO Y ME PICA VICICONTE', 'NONE', 'NEU', array([0.21230193, 0.36125951, 0.23733515, 0.18910341]), 48), ('Mi mamá me acaba de robar mi oso de peluche Pero tengo a mi bello Snorlax', 'NONE', 'NEU', array([0.28079463, 0.31660405, 0.19509368, 0.20750763]), 256), ('Cuidando mi cachete derecho para que ne salga un grano en el izquierdo', 'NONE', 'N', array([0.34128778, 0.21889834, 0.21984984, 0.21996404]), 280), ('Ahora queda esperar a que se estrene en nuestra cartelera las últimas películas voceadas para los premios Oscar', 'NONE', 'NEU', array([0.20135274, 0.36101688, 0.23965146, 0.19797891]), 310), ('5 días seguidos en el cine, un día de descanso para ver a mis perritas y luego otro día más de cine', 'NONE', 'P', array([0.17658801, 0.19050569, 0.25627376, 0.37663254]), 146), ('Ya pasó una semana de estar en Camaná y parece que hubiera llegado ayer recién, que rápido se pasa todo', 'NONE', 'NEU', array([0.27058394, 0.30662847, 0.18694637, 0.23584123]), 169), ('@LeslieLeiblinZa claro que si, yo estoy en Asia se sintió fuerte pero fue cortito', 'NONE', 'NEU', array([0.12128696, 0.38382174, 0.26414957, 0.23074172]), 365), ('Desde mañana me dedicaré a estudiar y dejaré mis sentimientos amorosos por otro lado', 'NONE', 'N', array([0.33702847, 0.3152292 , 0.21936303, 0.12837931]), 325), ('@yogui0076 @Capital967 @camcesar el tiempo promedio para ejercitarse, es de 1hr. Si quieres más tiempo, la alimentación también cambia', 'NONE', 'N', array([0.31873532, 0.21540052, 0.2019423 , 0.26392185]), 333), ('3 de enero, fecha mágica, fecha viajera, fecha de hacer sueños realidad', 'NONE', 'N', array([0.43544333, 0.07568872, 0.32234155, 0.1665264 ]), 246), ('@citayrnde @VickyySquad fui la primera seguidora merezco algo? No?', 'NONE', 'N', array([0.44532243, 0.11706688, 0.3328837 , 0.10472699]), 470), ('Maldito maduro mil veces, por su culpa tuve que salir del país y alejarme de ella', 'N', 'P', array([0.25249696, 0.12115472, 0.26211068, 0.36423764]), 173), ('@nat_ea con realidad me refiero al trato limeño, nada comparado con el cusqueño', 'NONE', 'N', array([0.28659787, 0.27321707, 0.17695603, 0.26322903]), 371), ('Al César: @peru21 fue el primero en nuestro país que sacó a la chica en bikini de sus páginas. Ahora sacó el horóscopo. Felicitaciones.', 'P', 'NONE', array([0.20680217, 0.20383918, 0.34880672, 0.24055192]), 159), ('Un poquito amarga mama #UnaSemanaDel2017YYo #felizdiadereyes #OTConcierto #HablaVillaran #SIGUEMEYTESIGO', 'N', 'P', array([0.28995884, 0.10081572, 0.21265762, 0.39656781]), 216), ('@MuniMiraflores @Munozestuvoz hola, ayer separe una cancha de tenis para hoy a las 10 y al llegar estaba ocupada, la alquilaron 3 veces,', 'NONE', 'N', array([0.39560374, 0.03980528, 0.29174352, 0.27284746]), 126), ('Espero llegar al work, estoy dms cansada', 'NONE', 'NEU', array([0.25048228, 0.29739251, 0.19631259, 0.25581262]), 278), ('@ivyjara Aunque te extraño mucho y quisiera abrazarte y besarte con todo mi amor y cariño', 'NONE', 'P', array([0.22623544, 0.260439  , 0.2065938 , 0.30673176]), 406), ('Es inevitable que salga mi lado niño cuando se trata de fútbol y/o carros', 'NONE', 'N', array([0.28798252, 0.28398804, 0.18983739, 0.23819205]), 382), ('@DjuJuMa si webitas lo sé pero la extraño', 'N', 'NONE', array([0.25895847, 0.22530125, 0.35533443, 0.16040585]), 409), ('@BestiasAlVolant Excelente, siempre me persigno cuando entro a uno', 'P', 'N', array([0.33851066, 0.25882828, 0.15975449, 0.24290657]), 364), ('@Lupalma12 por favor, mis innumerables tweets a las 3,4,5 de la mañana hablando webadas avalan mi reinado', 'NEU', 'N', array([0.35410703, 0.26171799, 0.161086  , 0.22308899]), 192), ('@Quillaquiroz y, según yo, miradas a los ojos que valen por mil (todo de manera independiente a la sustancia \"amor\")', 'NONE', 'P', array([0.18435403, 0.11437366, 0.30538192, 0.39589039]), 323), ('@jbendezu Hola Javier. Te escribimos la vez pasada indicando que será en la conferencia anual de Los Productores.', 'NONE', 'N', array([0.32430657, 0.26404174, 0.23633264, 0.17531904]), 253), ('Tengo hambre de algo salado', 'NONE', 'N', array([0.31078165, 0.24405992, 0.22718606, 0.21797237]), 156), ('@PoluxBlack en francia probé un ramen de bolsa que era más rico que Tokyo Ramen llévenme al primer mundo', 'P', 'NONE', array([0.20201635, 0.28959581, 0.2954912 , 0.21289664]), 232), ('@kevinghidalgo @BrunnerCesar @Aylen_1616 El prox viernes vamos', 'NONE', 'NEU', array([0.29640883, 0.30104152, 0.21910364, 0.18344601]), 378), ('@ChenteOink jajajaja este es un plato del restauran de mi casa, cuando quieras tienes tu descuento familiar', 'NONE', 'NEU', array([0.15659259, 0.31199648, 0.23210872, 0.29930221]), 220), ('Ya me dio nostalgia viendo tantos videos de clásicos antiguos', 'P', 'NEU', array([0.23078079, 0.30303312, 0.23599523, 0.23019086]), 434), ('@SSLopezCano Es recíproco. Y eso que casi nos cae @enanagorda. La que se armaba.', 'NEU', 'N', array([0.38827194, 0.31899126, 0.14195786, 0.15077894]), 174), ('@sergiocaycho hay que vernos porfa', 'NONE', 'N', array([0.29837558, 0.24831629, 0.23030293, 0.22300519]), 448), ('@ysitedigoalgo Como la mayoría de los mortales  . Por lo menos es lindo por dentro y se acepta como es.', 'P', 'NEU', array([0.30921014, 0.31644794, 0.12539599, 0.24894594]), 458), ('Estoy en esa delgada línea entre jugar un duelo de cartas Yu gi oh en playstation o planchar mi ropa de mañana', 'NONE', 'N', array([0.33765101, 0.21961234, 0.27020409, 0.17253256]), 97), ('Me daré el abrazo de fin de año sola o khé? por qué se demoran tanto', 'N', 'NONE', array([0.32001307, 0.08536875, 0.38586067, 0.20875751]), 185), ('Construye nuevos recuerdos, en eso consiste el futuro', 'NONE', 'P', array([0.25113743, 0.20949669, 0.23876575, 0.30060013]), 367), ('hola si quieren ver la historia que publico entren aqui gracias', 'NONE', 'P', array([0.13134512, 0.09405518, 0.3567488 , 0.41785089]), 297), ('Un poquito de personalidad por favor jajajaja que ahora pongo algo y ya es por mi amada llena de ego', 'N', 'P', array([0.24912449, 0.18636685, 0.25473755, 0.30977111]), 104), ('Pasajes Maleta Mis 3 potes de bronceador Alguien está emocionada, excepto por dejar a Salem solito', 'NEU', 'NONE', array([0.29819899, 0.25401695, 0.31334028, 0.13444378]), 244), ('Ya parezco viejita levantándome y acostándome temprano', 'N', 'NEU', array([0.26012971, 0.31871742, 0.21469912, 0.20645376]), 390), ('Y es jvsto en ese preciso instante en el cval le dices a tv papá Qve qvieres ser Dj y al final tome la decicion de mandarte a la mrd', 'NONE', 'P', array([0.20176997, 0.20326757, 0.26833259, 0.32662987]), 13), ('Estimada @evaayllon, reciba un cordial saludo, nosotros somos el 1er Centro de Ozonoterapia en el Perú, contamos con muchos tratamientos', 'NONE', 'P', array([0.27157091, 0.23378093, 0.21993933, 0.27470883]), 487), ('@SamanthaRojas recién puede ver el último video que subiste. Gracias por dejarnos saber un poco más de ti', 'P', 'NONE', array([0.26430396, 0.06384367, 0.36295614, 0.30889622]), 489), ('Por que existe gente bruta !!! Que cuando ven con zapatillas nuevas te las pisan !! Que les pasa? Son dementes ? Peor cuando son blancas', 'N', 'NONE', array([0.3161397 , 0.07640323, 0.36998428, 0.23747279]), 125), ('Escuchando soundtracks antiguos... primero en nostalgia y ahora caigo en depresión.', 'N', 'NEU', array([0.24868266, 0.30216046, 0.22009559, 0.22906128]), 275), ('@vicoba89 la verdad es que estamos buscando full time', 'NONE', 'N', array([0.31656208, 0.23502362, 0.26322919, 0.18518511]), 432), ('Hoy toca cocina ¿Qué es mas rico chicharrón o ceviche de pota ??? @ Muelle Fesa ex…', 'NONE', 'P', array([0.25919826, 0.03749708, 0.32543565, 0.37786901]), 113), ('Adoro su carita cuando me dice hermosa', 'P', 'NEU', array([0.26725165, 0.31632469, 0.15026364, 0.26616001]), 428), ('@CarlosCook eso es muy peruano', 'NEU', 'N', array([0.29837558, 0.24831629, 0.23030293, 0.22300519]), 63), ('Al final el tiempo terminó por darme la razón', 'NONE', 'N', array([0.38313563, 0.12704341, 0.33372649, 0.15609447]), 488), ('Y hoy, que salir de la cama era lo último que quería hacer, nos fuimos de paseo a La Punta valió la pena no quedarse en casa!', 'P', 'N', array([0.47072863, 0.02938382, 0.07778106, 0.42210649]), 30), ('Es el único trago que tomó puro', 'NONE', 'N', array([0.30873043, 0.212159  , 0.26034675, 0.21876382]), 326), ('@joannabolona trankila colorada ya saldra el sol paciencia', 'NONE', 'P', array([0.26848039, 0.24115408, 0.22150863, 0.2688569 ]), 249), ('@OxanaJuliana1 estan lindos tus gatitos.- producen ternura', 'P', 'N', array([0.28908533, 0.24040875, 0.22795674, 0.24254918]), 336), ('@MichelleMarti20 es un amor viste el nuevo ep ¿¿¿ solo he visto el preview del ep de mañana y matan a la amiga de haesoo a pesar', 'P', 'NEU', array([0.30451172, 0.32470239, 0.09207857, 0.27870733]), 23), ('@biebsdere hola! Me gustaría saber como se llama el actor ( el q llega ofrecerle el control a el protagonista \"Adam\") por FA. Responde!', 'NONE', 'N', array([0.32817318, 0.06447629, 0.28457806, 0.32277246]), 492), ('Es criminal que me hagan caminar tanto hoy', 'N', 'P', array([0.33239652, 0.1253168 , 0.16824313, 0.37404356]), 269), ('Totoro casi listo #Imelda #torta #totoro #cake #designcake #pastelería #lima #diseño…', 'NONE', 'P', array([0.27657523, 0.16068352, 0.26253471, 0.30020654]), 114), ('\"Si tu supieras que por ti me muero, que yo te quiero te quiero te quiero te quiero...\" POR FIN TE ENCONTRE', 'NONE', 'P', array([0.23162919, 0.19348427, 0.27389458, 0.30099196]), 472), ('Buen resumen de mi vida amorosa. - Lo he amado por años. - Cásate con él, pé. - AJ, NO. No estoy para mantener a nadie. Que no joda.', 'N', 'P', array([0.46674976, 0.03090876, 0.01035234, 0.49198914]), 2), ('@mczorro @Carlos_Chavez Ya sabes cómo me siento cuando tengo que cruzar media ciudad para ver una película', 'N', 'NONE', array([0.2660057 , 0.21700633, 0.28680914, 0.23017882]), 393), ('Te amo demasiado!!! Por tu sensualidad , inocencia y belleza...porque pareces tonta pero sé que no lo eres y xq eres joven @ArianaGrande', 'P', 'N', array([0.44579724, 0.09866436, 0.02737327, 0.42816514]), 102), ('Al final, siempre me quedo sola en casa', 'NONE', 'N', array([0.33212354, 0.23004905, 0.31656837, 0.12125904]), 307), ('Todo el dia esperando llegar a casa y comer helado casero, pata encontrarme sin luz y el helado hecho agua putamadreeeeeee', 'N', 'NEU', array([0.28433511, 0.2947084 , 0.24893034, 0.17202615]), 101), ('@Brigittgt y con \"las conozco\", me refiero a Maria y Krisbell . Mandale mis saluditos, somos ingratas todas', 'N', 'P', array([0.28974195, 0.13404132, 0.27952044, 0.29669629]), 235), ('Este cuarto se siente muy vacío sin mis amiguitos y su bulla', 'N', 'NONE', array([0.29865016, 0.21444576, 0.30549507, 0.18140901]), 339), ('@TatianaAstengoB esa serie se nota muy interesante a verla por Netflix', 'P', 'N', array([0.31347821, 0.14904541, 0.23057454, 0.30690184]), 319), ('@pau_2189 siempre la gente es pesada, pero normal Pau, que te llegue', 'NEU', 'N', array([0.35012947, 0.34528581, 0.06222105, 0.24236368]), 306), ('Alguien que me regale una ektachrome y una cámara misia antigua', 'NONE', 'NEU', array([0.27346095, 0.2957268 , 0.29141614, 0.13939611]), 348), ('Que lindo es levantarse sin resaca', 'P', 'N', array([0.28024146, 0.23014055, 0.21292045, 0.27669754]), 274), ('Esperando el metropolitano hace 26 minutos', 'N', 'P', array([0.27594757, 0.19402365, 0.25272639, 0.27730239]), 462)]\n"
     ]
    }
   ],
   "source": [
    "classes = model._pipeline.classes_\n",
    "print(classes)\n",
    "wrongly_tagged = [(X_dev[i], y_dev[i], y_pred[i], y_pred_proba[i], i) \n",
    "                  for i in range(len(X_dev)) if y_pred[i] != y_dev[i]]\n",
    "\n",
    "\"\"\" Sort by prob difference\"\"\"\n",
    "b = [t for t in sorted(wrongly_tagged,\n",
    "       key=lambda t:\n",
    "           t[3][np.where(classes == t[1])][0] -\n",
    "           t[3][np.where(classes == t[2])][0])]\n",
    "print(b)"
   ]
  },
  {
   "cell_type": "markdown",
   "metadata": {},
   "source": [
    "### Modifying the tweet"
   ]
  },
  {
   "cell_type": "code",
   "execution_count": 25,
   "metadata": {},
   "outputs": [
    {
     "name": "stdout",
     "output_type": "stream",
     "text": [
      "['N' 'NEU' 'NONE' 'P'] NONE P\n",
      "Buen día.... Para delante una nueva semana con fe...!!!! Con fe ... Cuanto tiempo me aguantas con mi forma de ser...\n",
      "[[0.04669929 0.0314912  0.0202422  0.90156731]]\n",
      "[[0.21668909 0.16951191 0.25684346 0.35695554]]\n",
      "['P']\n",
      "[[0.29837558 0.24831629 0.23030293 0.22300519]]\n",
      "['N']\n"
     ]
    }
   ],
   "source": [
    "tweet = X_dev[76]\n",
    "print(model._pipeline.classes_, y_dev[76], y_pred[76])\n",
    "print(tweet)\n",
    "print(model.predict_proba([tweet]))\n",
    "\n",
    "new_tweet = 'Otro día. Aunque para delante alguna semana con fe. ' \\\n",
    "            'Cuanto tiempo me aguantas con mi forma de ser.'\n",
    "print(model.predict_proba([new_tweet]))\n",
    "print(model.predict([new_tweet]))\n",
    "\n",
    "new_tweet = ''\n",
    "print(model.predict_proba([new_tweet]))\n",
    "print(model.predict([new_tweet]))\n"
   ]
  },
  {
   "cell_type": "markdown",
   "metadata": {},
   "source": [
    "## Sentiment polarity lexicon"
   ]
  },
  {
   "cell_type": "code",
   "execution_count": 47,
   "metadata": {},
   "outputs": [
    {
     "name": "stdout",
     "output_type": "stream",
     "text": [
      "Buen día.... Para delante una nueva semana con fe...!!!! Con fe ... Cuanto tiempo me aguantas con mi forma de ser...\n",
      "['neg', 'neu', 'pos']\n",
      "[[0, 5, 2]]\n",
      "{'neg': [], 'pos': ['día', 'ser'], 'neu': ['delante', 'semana', 'cuanto', 'tiempo', 'forma']}\n",
      "[[0, 6, 1]]\n",
      "{'neg': [], 'pos': ['ser'], 'neu': ['día', 'delante', 'semana', 'cuanto', 'tiempo', 'forma']}\n"
     ]
    }
   ],
   "source": [
    "from sentiment import word_polarities\n",
    "\n",
    "tweet = X_dev[76]\n",
    "counter = word_polarities.PolarizedWordsCounter()\n",
    "print(tweet)\n",
    "print(counter.get_feature_names())\n",
    "print(counter.transform([tweet]))\n",
    "\n",
    "print(counter.classify(word_polarities._tokenize(tweet)))\n",
    "\n",
    "# Change thresholds and re-classify\n",
    "counter = word_polarities.PolarizedWordsCounter(thresholds=[1.5, 2.5])\n",
    "print(counter.transform([tweet]))\n",
    "print(counter.classify(word_polarities._tokenize(tweet)))\n"
   ]
  }
 ],
 "metadata": {
  "kernelspec": {
   "display_name": "Python 3",
   "language": "python",
   "name": "python3"
  },
  "language_info": {
   "codemirror_mode": {
    "name": "ipython",
    "version": 3
   },
   "file_extension": ".py",
   "mimetype": "text/x-python",
   "name": "python",
   "nbconvert_exporter": "python",
   "pygments_lexer": "ipython3",
   "version": "3.6.7"
  }
 },
 "nbformat": 4,
 "nbformat_minor": 2
}
